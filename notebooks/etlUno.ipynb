{
 "cells": [
  {
   "cell_type": "code",
   "execution_count": 1,
   "metadata": {},
   "outputs": [
    {
     "name": "stdout",
     "output_type": "stream",
     "text": [
      "    Code                              Name Registration_number Keph level  \\\n",
      "0  22998               Kaka Medical Clinic                 NaN    Level 2   \n",
      "1  22985                KOPANGA DISPENSARY                 NaN    Level 2   \n",
      "2  22977           Fairview Medical Centre                 NaN    Level 2   \n",
      "3  22976  RADIANT GROUP OF HOSPITALS-UMOJA                 NaN    Level 3   \n",
      "4  22971             Songot Medical Clinic                 NaN    Level 2   \n",
      "\n",
      "                              Facility type  \\\n",
      "0  Dispensaries and clinic-out patient only   \n",
      "1        Basic primary health care facility   \n",
      "2                  Secondary care hospitals   \n",
      "3                  Secondary care hospitals   \n",
      "4        Basic primary health care facility   \n",
      "\n",
      "                                   Owner  \\\n",
      "0  Private Practice - Medical Specialist   \n",
      "1                     Ministry of Health   \n",
      "2         Private Practice - Unspecified   \n",
      "3         Private Practice - Unspecified   \n",
      "4   Private Practice - Nurse / Midwifery   \n",
      "\n",
      "                               Regulatory body  Beds  Cots    County  ...  \\\n",
      "0                                          NaN     0     0  KAKAMEGA  ...   \n",
      "1                                          NaN     2     1    MIGORI  ...   \n",
      "2  Nursing Council of Kenya (Private Practice)     4     0   NAIROBI  ...   \n",
      "3                Kenya MPDB - Private Practice    34     0   NAIROBI  ...   \n",
      "4                                          NaN     0     0   TURKANA  ...   \n",
      "\n",
      "           Ward Operation status Open_whole_day Open_public_holidays  \\\n",
      "0        SHEYWE      Operational             No                   No   \n",
      "1     WASIMBETE      Operational             No                   No   \n",
      "2  KAYOLE SOUTH      Operational             No                   No   \n",
      "3      UMOJA II      Operational            Yes                  Yes   \n",
      "4   LOKICHOGGIO      Operational             No                   No   \n",
      "\n",
      "  Open_weekends Open_late_night Service_names Approved  Public visible Closed  \n",
      "0            No              No           NaN      Yes             Yes     No  \n",
      "1            No              No           NaN      Yes             Yes     No  \n",
      "2           Yes              No           NaN      Yes             Yes     No  \n",
      "3           Yes             Yes           NaN      Yes             Yes     No  \n",
      "4            No              No           NaN      Yes             Yes     No  \n",
      "\n",
      "[5 rows x 22 columns]\n"
     ]
    }
   ],
   "source": [
    "import requests\n",
    "import pandas as pd\n",
    "\n",
    "url = \"https://data.humdata.org/dataset/7b9c2851-dc37-4a88-9dcb-62e55eb91baf/resource/df6bfc55-3b25-4309-a1b4-74afba434956/download/kenya-health-facilities-2017_08_02.xlsx\"\n",
    "\n",
    "mydata = requests.get(url)\n",
    "\n",
    "with open(\"kenya_health_facilities.xlsx\", \"wb\") as f:\n",
    "    f.write(mydata.content)\n",
    "\n",
    "\n",
    "# Load the Excel file into a DataFrame\n",
    "df = pd.read_excel(\"kenya_health_facilities.xlsx\")\n",
    "\n",
    "# Display the first few rows of the DataFrame\n",
    "print(df.head())"
   ]
  },
  {
   "cell_type": "code",
   "execution_count": 2,
   "metadata": {},
   "outputs": [
    {
     "data": {
      "text/plain": [
       "(8932, 22)"
      ]
     },
     "execution_count": 2,
     "metadata": {},
     "output_type": "execute_result"
    }
   ],
   "source": [
    "df.shape"
   ]
  },
  {
   "cell_type": "code",
   "execution_count": 3,
   "metadata": {},
   "outputs": [
    {
     "data": {
      "text/plain": [
       "Index(['Code', 'Name', 'Registration_number', 'Keph level', 'Facility type',\n",
       "       'Owner', 'Regulatory body', 'Beds', 'Cots', 'County', 'Constituency',\n",
       "       'Sub county', 'Ward', 'Operation status', 'Open_whole_day',\n",
       "       'Open_public_holidays', 'Open_weekends', 'Open_late_night',\n",
       "       'Service_names', 'Approved', 'Public visible', 'Closed'],\n",
       "      dtype='object')"
      ]
     },
     "execution_count": 3,
     "metadata": {},
     "output_type": "execute_result"
    }
   ],
   "source": [
    "df.columns"
   ]
  },
  {
   "cell_type": "code",
   "execution_count": 4,
   "metadata": {},
   "outputs": [
    {
     "data": {
      "text/plain": [
       "Code                       0\n",
       "Name                       0\n",
       "Registration_number     8813\n",
       "Keph level                12\n",
       "Facility type              0\n",
       "Owner                      0\n",
       "Regulatory body          328\n",
       "Beds                       0\n",
       "Cots                       0\n",
       "County                     0\n",
       "Constituency               0\n",
       "Sub county                 0\n",
       "Ward                       0\n",
       "Operation status           0\n",
       "Open_whole_day             0\n",
       "Open_public_holidays       0\n",
       "Open_weekends              0\n",
       "Open_late_night            0\n",
       "Service_names           8932\n",
       "Approved                   0\n",
       "Public visible             0\n",
       "Closed                     0\n",
       "dtype: int64"
      ]
     },
     "execution_count": 4,
     "metadata": {},
     "output_type": "execute_result"
    }
   ],
   "source": [
    "df.isnull().sum()"
   ]
  },
  {
   "cell_type": "code",
   "execution_count": null,
   "metadata": {},
   "outputs": [],
   "source": []
  }
 ],
 "metadata": {
  "kernelspec": {
   "display_name": "llm_env",
   "language": "python",
   "name": "python3"
  },
  "language_info": {
   "codemirror_mode": {
    "name": "ipython",
    "version": 3
   },
   "file_extension": ".py",
   "mimetype": "text/x-python",
   "name": "python",
   "nbconvert_exporter": "python",
   "pygments_lexer": "ipython3",
   "version": "3.11.5"
  }
 },
 "nbformat": 4,
 "nbformat_minor": 2
}
