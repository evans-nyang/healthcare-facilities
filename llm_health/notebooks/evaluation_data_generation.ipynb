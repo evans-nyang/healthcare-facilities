{
 "cells": [
  {
   "cell_type": "code",
   "execution_count": 1,
   "metadata": {},
   "outputs": [],
   "source": [
    "import pandas as pd"
   ]
  },
  {
   "cell_type": "markdown",
   "metadata": {},
   "source": [
    "## Retrieval Evaluation"
   ]
  },
  {
   "cell_type": "code",
   "execution_count": 2,
   "metadata": {},
   "outputs": [],
   "source": [
    "from openai import OpenAI\n",
    "import os"
   ]
  },
  {
   "cell_type": "code",
   "execution_count": 4,
   "metadata": {},
   "outputs": [],
   "source": [
    "client = OpenAI(\n",
    "    base_url=\"https://models.inference.ai.azure.com\",\n",
    "    api_key=os.environ[\"GITHUB_TOKEN\"]\n",
    ")"
   ]
  },
  {
   "cell_type": "code",
   "execution_count": 5,
   "metadata": {},
   "outputs": [],
   "source": [
    "df = pd.read_csv('kenya_health_facilities_clean.csv')\n",
    "documents = df.to_dict(orient='records')"
   ]
  },
  {
   "cell_type": "code",
   "execution_count": 6,
   "metadata": {},
   "outputs": [],
   "source": [
    "prompt_template = \"\"\"\n",
    "You emulate a user of our healthcare facility assistant application.\n",
    "Formulate 5 questions this user might ask based on the provided healthcare facility. The record\n",
    "should contain the answer to the questions, and the questions should be complete and not too short.\n",
    "Use as fewer words as possible from the record. \n",
    "\n",
    "The record:\n",
    "\n",
    "name: {name}\n",
    "keph_level: {keph_level}\n",
    "facility_type: {facility_type}\n",
    "owner: {owner}\n",
    "regulatory_body: {regulatory_body}\n",
    "beds: {beds}\n",
    "cots: {cots}\n",
    "county: {county}\n",
    "constituency: {constituency}\n",
    "sub_county: {sub_county}\n",
    "ward: {ward} \n",
    "operation_status: {operation_status}\n",
    "open_whole_day: {open_whole_day}\n",
    "open_public_holidays: {open_public_holidays}\n",
    "open_weekends: {open_weekends}\n",
    "open_late_night: {open_late_night}\n",
    "approved: {approved}\n",
    "public_visible: {public_visible}\n",
    "closed: {closed}\n",
    "\n",
    "Provide the output in parsable JSON without using code blocks:\n",
    "\n",
    "[\"question1\", \"question2\", ..., \"question5\"]\n",
    "\"\"\".strip()"
   ]
  },
  {
   "cell_type": "code",
   "execution_count": 7,
   "metadata": {},
   "outputs": [],
   "source": [
    "prompt = prompt_template.format(**documents[0])"
   ]
  },
  {
   "cell_type": "code",
   "execution_count": 8,
   "metadata": {},
   "outputs": [],
   "source": [
    "def llm(prompt):\n",
    "    response = client.chat.completions.create(\n",
    "        model = 'gpt-4o',\n",
    "        messages = [{\"role\": \"user\", \"content\": prompt}]\n",
    "    )\n",
    "\n",
    "    return response.choices[0].message.content"
   ]
  },
  {
   "cell_type": "code",
   "execution_count": 9,
   "metadata": {},
   "outputs": [],
   "source": [
    "answers = llm(prompt)"
   ]
  },
  {
   "cell_type": "code",
   "execution_count": 10,
   "metadata": {},
   "outputs": [],
   "source": [
    "import json"
   ]
  },
  {
   "cell_type": "code",
   "execution_count": 11,
   "metadata": {},
   "outputs": [
    {
     "data": {
      "text/plain": [
       "['What type of healthcare facility is Fairview Medical Centre categorized as?',\n",
       " 'Is Fairview Medical Centre operational on weekends?',\n",
       " 'Which regulatory body oversees Fairview Medical Centre?',\n",
       " 'How many beds does Fairview Medical Centre have?',\n",
       " 'Is Fairview Medical Centre located in the Nairobi county?']"
      ]
     },
     "execution_count": 11,
     "metadata": {},
     "output_type": "execute_result"
    }
   ],
   "source": [
    "json.loads(answers)"
   ]
  },
  {
   "cell_type": "code",
   "execution_count": 12,
   "metadata": {},
   "outputs": [],
   "source": [
    "def generate_questions(doc):\n",
    "    prompt = prompt_template.format(**doc)\n",
    "\n",
    "    response = client.chat.completions.create(\n",
    "        model='gpt-4o',\n",
    "        messages=[{\"role\": \"user\", \"content\": prompt}]\n",
    "    )\n",
    "\n",
    "    json_response = response.choices[0].message.content\n",
    "    return json_response"
   ]
  },
  {
   "cell_type": "code",
   "execution_count": 13,
   "metadata": {},
   "outputs": [],
   "source": [
    "from tqdm.auto import tqdm"
   ]
  },
  {
   "cell_type": "code",
   "execution_count": 14,
   "metadata": {},
   "outputs": [],
   "source": [
    "results = {}"
   ]
  },
  {
   "cell_type": "code",
   "execution_count": 18,
   "metadata": {},
   "outputs": [
    {
     "data": {
      "application/vnd.jupyter.widget-view+json": {
       "model_id": "a0003744d33e413a86fa4ec1e3e97def",
       "version_major": 2,
       "version_minor": 0
      },
      "text/plain": [
       "  0%|          | 0/8598 [00:00<?, ?it/s]"
      ]
     },
     "metadata": {},
     "output_type": "display_data"
    },
    {
     "ename": "RateLimitError",
     "evalue": "Error code: 429 - {'error': {'code': 'RateLimitReached', 'message': 'Rate limit of 10 per 60s exceeded for UserByModelByMinute. Please wait 45 seconds before retrying.', 'details': None}}",
     "output_type": "error",
     "traceback": [
      "\u001b[0;31m---------------------------------------------------------------------------\u001b[0m",
      "\u001b[0;31mRateLimitError\u001b[0m                            Traceback (most recent call last)",
      "Cell \u001b[0;32mIn[18], line 8\u001b[0m\n\u001b[1;32m      5\u001b[0m \u001b[38;5;28;01mif\u001b[39;00m doc_id \u001b[38;5;129;01min\u001b[39;00m results:\n\u001b[1;32m      6\u001b[0m     \u001b[38;5;28;01mcontinue\u001b[39;00m\n\u001b[0;32m----> 8\u001b[0m questions_raw \u001b[38;5;241m=\u001b[39m \u001b[43mgenerate_questions\u001b[49m\u001b[43m(\u001b[49m\u001b[43mdoc\u001b[49m\u001b[43m)\u001b[49m\n\u001b[1;32m      9\u001b[0m questions \u001b[38;5;241m=\u001b[39m json\u001b[38;5;241m.\u001b[39mloads(questions_raw)\n\u001b[1;32m     10\u001b[0m results[doc_id] \u001b[38;5;241m=\u001b[39m questions\n",
      "Cell \u001b[0;32mIn[12], line 4\u001b[0m, in \u001b[0;36mgenerate_questions\u001b[0;34m(doc)\u001b[0m\n\u001b[1;32m      1\u001b[0m \u001b[38;5;28;01mdef\u001b[39;00m \u001b[38;5;21mgenerate_questions\u001b[39m(doc):\n\u001b[1;32m      2\u001b[0m     prompt \u001b[38;5;241m=\u001b[39m prompt_template\u001b[38;5;241m.\u001b[39mformat(\u001b[38;5;241m*\u001b[39m\u001b[38;5;241m*\u001b[39mdoc)\n\u001b[0;32m----> 4\u001b[0m     response \u001b[38;5;241m=\u001b[39m \u001b[43mclient\u001b[49m\u001b[38;5;241;43m.\u001b[39;49m\u001b[43mchat\u001b[49m\u001b[38;5;241;43m.\u001b[39;49m\u001b[43mcompletions\u001b[49m\u001b[38;5;241;43m.\u001b[39;49m\u001b[43mcreate\u001b[49m\u001b[43m(\u001b[49m\n\u001b[1;32m      5\u001b[0m \u001b[43m        \u001b[49m\u001b[43mmodel\u001b[49m\u001b[38;5;241;43m=\u001b[39;49m\u001b[38;5;124;43m'\u001b[39;49m\u001b[38;5;124;43mgpt-4o\u001b[39;49m\u001b[38;5;124;43m'\u001b[39;49m\u001b[43m,\u001b[49m\n\u001b[1;32m      6\u001b[0m \u001b[43m        \u001b[49m\u001b[43mmessages\u001b[49m\u001b[38;5;241;43m=\u001b[39;49m\u001b[43m[\u001b[49m\u001b[43m{\u001b[49m\u001b[38;5;124;43m\"\u001b[39;49m\u001b[38;5;124;43mrole\u001b[39;49m\u001b[38;5;124;43m\"\u001b[39;49m\u001b[43m:\u001b[49m\u001b[43m \u001b[49m\u001b[38;5;124;43m\"\u001b[39;49m\u001b[38;5;124;43muser\u001b[39;49m\u001b[38;5;124;43m\"\u001b[39;49m\u001b[43m,\u001b[49m\u001b[43m \u001b[49m\u001b[38;5;124;43m\"\u001b[39;49m\u001b[38;5;124;43mcontent\u001b[39;49m\u001b[38;5;124;43m\"\u001b[39;49m\u001b[43m:\u001b[49m\u001b[43m \u001b[49m\u001b[43mprompt\u001b[49m\u001b[43m}\u001b[49m\u001b[43m]\u001b[49m\n\u001b[1;32m      7\u001b[0m \u001b[43m    \u001b[49m\u001b[43m)\u001b[49m\n\u001b[1;32m      9\u001b[0m     json_response \u001b[38;5;241m=\u001b[39m response\u001b[38;5;241m.\u001b[39mchoices[\u001b[38;5;241m0\u001b[39m]\u001b[38;5;241m.\u001b[39mmessage\u001b[38;5;241m.\u001b[39mcontent\n\u001b[1;32m     10\u001b[0m     \u001b[38;5;28;01mreturn\u001b[39;00m json_response\n",
      "File \u001b[0;32m~/dev/myvenva/lib/python3.10/site-packages/openai/_utils/_utils.py:277\u001b[0m, in \u001b[0;36mrequired_args.<locals>.inner.<locals>.wrapper\u001b[0;34m(*args, **kwargs)\u001b[0m\n\u001b[1;32m    275\u001b[0m             msg \u001b[38;5;241m=\u001b[39m \u001b[38;5;124mf\u001b[39m\u001b[38;5;124m\"\u001b[39m\u001b[38;5;124mMissing required argument: \u001b[39m\u001b[38;5;132;01m{\u001b[39;00mquote(missing[\u001b[38;5;241m0\u001b[39m])\u001b[38;5;132;01m}\u001b[39;00m\u001b[38;5;124m\"\u001b[39m\n\u001b[1;32m    276\u001b[0m     \u001b[38;5;28;01mraise\u001b[39;00m \u001b[38;5;167;01mTypeError\u001b[39;00m(msg)\n\u001b[0;32m--> 277\u001b[0m \u001b[38;5;28;01mreturn\u001b[39;00m \u001b[43mfunc\u001b[49m\u001b[43m(\u001b[49m\u001b[38;5;241;43m*\u001b[39;49m\u001b[43margs\u001b[49m\u001b[43m,\u001b[49m\u001b[43m \u001b[49m\u001b[38;5;241;43m*\u001b[39;49m\u001b[38;5;241;43m*\u001b[39;49m\u001b[43mkwargs\u001b[49m\u001b[43m)\u001b[49m\n",
      "File \u001b[0;32m~/dev/myvenva/lib/python3.10/site-packages/openai/resources/chat/completions.py:643\u001b[0m, in \u001b[0;36mCompletions.create\u001b[0;34m(self, messages, model, frequency_penalty, function_call, functions, logit_bias, logprobs, max_tokens, n, parallel_tool_calls, presence_penalty, response_format, seed, service_tier, stop, stream, stream_options, temperature, tool_choice, tools, top_logprobs, top_p, user, extra_headers, extra_query, extra_body, timeout)\u001b[0m\n\u001b[1;32m    609\u001b[0m \u001b[38;5;129m@required_args\u001b[39m([\u001b[38;5;124m\"\u001b[39m\u001b[38;5;124mmessages\u001b[39m\u001b[38;5;124m\"\u001b[39m, \u001b[38;5;124m\"\u001b[39m\u001b[38;5;124mmodel\u001b[39m\u001b[38;5;124m\"\u001b[39m], [\u001b[38;5;124m\"\u001b[39m\u001b[38;5;124mmessages\u001b[39m\u001b[38;5;124m\"\u001b[39m, \u001b[38;5;124m\"\u001b[39m\u001b[38;5;124mmodel\u001b[39m\u001b[38;5;124m\"\u001b[39m, \u001b[38;5;124m\"\u001b[39m\u001b[38;5;124mstream\u001b[39m\u001b[38;5;124m\"\u001b[39m])\n\u001b[1;32m    610\u001b[0m \u001b[38;5;28;01mdef\u001b[39;00m \u001b[38;5;21mcreate\u001b[39m(\n\u001b[1;32m    611\u001b[0m     \u001b[38;5;28mself\u001b[39m,\n\u001b[0;32m   (...)\u001b[0m\n\u001b[1;32m    641\u001b[0m     timeout: \u001b[38;5;28mfloat\u001b[39m \u001b[38;5;241m|\u001b[39m httpx\u001b[38;5;241m.\u001b[39mTimeout \u001b[38;5;241m|\u001b[39m \u001b[38;5;28;01mNone\u001b[39;00m \u001b[38;5;241m|\u001b[39m NotGiven \u001b[38;5;241m=\u001b[39m NOT_GIVEN,\n\u001b[1;32m    642\u001b[0m ) \u001b[38;5;241m-\u001b[39m\u001b[38;5;241m>\u001b[39m ChatCompletion \u001b[38;5;241m|\u001b[39m Stream[ChatCompletionChunk]:\n\u001b[0;32m--> 643\u001b[0m     \u001b[38;5;28;01mreturn\u001b[39;00m \u001b[38;5;28;43mself\u001b[39;49m\u001b[38;5;241;43m.\u001b[39;49m\u001b[43m_post\u001b[49m\u001b[43m(\u001b[49m\n\u001b[1;32m    644\u001b[0m \u001b[43m        \u001b[49m\u001b[38;5;124;43m\"\u001b[39;49m\u001b[38;5;124;43m/chat/completions\u001b[39;49m\u001b[38;5;124;43m\"\u001b[39;49m\u001b[43m,\u001b[49m\n\u001b[1;32m    645\u001b[0m \u001b[43m        \u001b[49m\u001b[43mbody\u001b[49m\u001b[38;5;241;43m=\u001b[39;49m\u001b[43mmaybe_transform\u001b[49m\u001b[43m(\u001b[49m\n\u001b[1;32m    646\u001b[0m \u001b[43m            \u001b[49m\u001b[43m{\u001b[49m\n\u001b[1;32m    647\u001b[0m \u001b[43m                \u001b[49m\u001b[38;5;124;43m\"\u001b[39;49m\u001b[38;5;124;43mmessages\u001b[39;49m\u001b[38;5;124;43m\"\u001b[39;49m\u001b[43m:\u001b[49m\u001b[43m \u001b[49m\u001b[43mmessages\u001b[49m\u001b[43m,\u001b[49m\n\u001b[1;32m    648\u001b[0m \u001b[43m                \u001b[49m\u001b[38;5;124;43m\"\u001b[39;49m\u001b[38;5;124;43mmodel\u001b[39;49m\u001b[38;5;124;43m\"\u001b[39;49m\u001b[43m:\u001b[49m\u001b[43m \u001b[49m\u001b[43mmodel\u001b[49m\u001b[43m,\u001b[49m\n\u001b[1;32m    649\u001b[0m \u001b[43m                \u001b[49m\u001b[38;5;124;43m\"\u001b[39;49m\u001b[38;5;124;43mfrequency_penalty\u001b[39;49m\u001b[38;5;124;43m\"\u001b[39;49m\u001b[43m:\u001b[49m\u001b[43m \u001b[49m\u001b[43mfrequency_penalty\u001b[49m\u001b[43m,\u001b[49m\n\u001b[1;32m    650\u001b[0m \u001b[43m                \u001b[49m\u001b[38;5;124;43m\"\u001b[39;49m\u001b[38;5;124;43mfunction_call\u001b[39;49m\u001b[38;5;124;43m\"\u001b[39;49m\u001b[43m:\u001b[49m\u001b[43m \u001b[49m\u001b[43mfunction_call\u001b[49m\u001b[43m,\u001b[49m\n\u001b[1;32m    651\u001b[0m \u001b[43m                \u001b[49m\u001b[38;5;124;43m\"\u001b[39;49m\u001b[38;5;124;43mfunctions\u001b[39;49m\u001b[38;5;124;43m\"\u001b[39;49m\u001b[43m:\u001b[49m\u001b[43m \u001b[49m\u001b[43mfunctions\u001b[49m\u001b[43m,\u001b[49m\n\u001b[1;32m    652\u001b[0m \u001b[43m                \u001b[49m\u001b[38;5;124;43m\"\u001b[39;49m\u001b[38;5;124;43mlogit_bias\u001b[39;49m\u001b[38;5;124;43m\"\u001b[39;49m\u001b[43m:\u001b[49m\u001b[43m \u001b[49m\u001b[43mlogit_bias\u001b[49m\u001b[43m,\u001b[49m\n\u001b[1;32m    653\u001b[0m \u001b[43m                \u001b[49m\u001b[38;5;124;43m\"\u001b[39;49m\u001b[38;5;124;43mlogprobs\u001b[39;49m\u001b[38;5;124;43m\"\u001b[39;49m\u001b[43m:\u001b[49m\u001b[43m \u001b[49m\u001b[43mlogprobs\u001b[49m\u001b[43m,\u001b[49m\n\u001b[1;32m    654\u001b[0m \u001b[43m                \u001b[49m\u001b[38;5;124;43m\"\u001b[39;49m\u001b[38;5;124;43mmax_tokens\u001b[39;49m\u001b[38;5;124;43m\"\u001b[39;49m\u001b[43m:\u001b[49m\u001b[43m \u001b[49m\u001b[43mmax_tokens\u001b[49m\u001b[43m,\u001b[49m\n\u001b[1;32m    655\u001b[0m \u001b[43m                \u001b[49m\u001b[38;5;124;43m\"\u001b[39;49m\u001b[38;5;124;43mn\u001b[39;49m\u001b[38;5;124;43m\"\u001b[39;49m\u001b[43m:\u001b[49m\u001b[43m \u001b[49m\u001b[43mn\u001b[49m\u001b[43m,\u001b[49m\n\u001b[1;32m    656\u001b[0m \u001b[43m                \u001b[49m\u001b[38;5;124;43m\"\u001b[39;49m\u001b[38;5;124;43mparallel_tool_calls\u001b[39;49m\u001b[38;5;124;43m\"\u001b[39;49m\u001b[43m:\u001b[49m\u001b[43m \u001b[49m\u001b[43mparallel_tool_calls\u001b[49m\u001b[43m,\u001b[49m\n\u001b[1;32m    657\u001b[0m \u001b[43m                \u001b[49m\u001b[38;5;124;43m\"\u001b[39;49m\u001b[38;5;124;43mpresence_penalty\u001b[39;49m\u001b[38;5;124;43m\"\u001b[39;49m\u001b[43m:\u001b[49m\u001b[43m \u001b[49m\u001b[43mpresence_penalty\u001b[49m\u001b[43m,\u001b[49m\n\u001b[1;32m    658\u001b[0m \u001b[43m                \u001b[49m\u001b[38;5;124;43m\"\u001b[39;49m\u001b[38;5;124;43mresponse_format\u001b[39;49m\u001b[38;5;124;43m\"\u001b[39;49m\u001b[43m:\u001b[49m\u001b[43m \u001b[49m\u001b[43mresponse_format\u001b[49m\u001b[43m,\u001b[49m\n\u001b[1;32m    659\u001b[0m \u001b[43m                \u001b[49m\u001b[38;5;124;43m\"\u001b[39;49m\u001b[38;5;124;43mseed\u001b[39;49m\u001b[38;5;124;43m\"\u001b[39;49m\u001b[43m:\u001b[49m\u001b[43m \u001b[49m\u001b[43mseed\u001b[49m\u001b[43m,\u001b[49m\n\u001b[1;32m    660\u001b[0m \u001b[43m                \u001b[49m\u001b[38;5;124;43m\"\u001b[39;49m\u001b[38;5;124;43mservice_tier\u001b[39;49m\u001b[38;5;124;43m\"\u001b[39;49m\u001b[43m:\u001b[49m\u001b[43m \u001b[49m\u001b[43mservice_tier\u001b[49m\u001b[43m,\u001b[49m\n\u001b[1;32m    661\u001b[0m \u001b[43m                \u001b[49m\u001b[38;5;124;43m\"\u001b[39;49m\u001b[38;5;124;43mstop\u001b[39;49m\u001b[38;5;124;43m\"\u001b[39;49m\u001b[43m:\u001b[49m\u001b[43m \u001b[49m\u001b[43mstop\u001b[49m\u001b[43m,\u001b[49m\n\u001b[1;32m    662\u001b[0m \u001b[43m                \u001b[49m\u001b[38;5;124;43m\"\u001b[39;49m\u001b[38;5;124;43mstream\u001b[39;49m\u001b[38;5;124;43m\"\u001b[39;49m\u001b[43m:\u001b[49m\u001b[43m \u001b[49m\u001b[43mstream\u001b[49m\u001b[43m,\u001b[49m\n\u001b[1;32m    663\u001b[0m \u001b[43m                \u001b[49m\u001b[38;5;124;43m\"\u001b[39;49m\u001b[38;5;124;43mstream_options\u001b[39;49m\u001b[38;5;124;43m\"\u001b[39;49m\u001b[43m:\u001b[49m\u001b[43m \u001b[49m\u001b[43mstream_options\u001b[49m\u001b[43m,\u001b[49m\n\u001b[1;32m    664\u001b[0m \u001b[43m                \u001b[49m\u001b[38;5;124;43m\"\u001b[39;49m\u001b[38;5;124;43mtemperature\u001b[39;49m\u001b[38;5;124;43m\"\u001b[39;49m\u001b[43m:\u001b[49m\u001b[43m \u001b[49m\u001b[43mtemperature\u001b[49m\u001b[43m,\u001b[49m\n\u001b[1;32m    665\u001b[0m \u001b[43m                \u001b[49m\u001b[38;5;124;43m\"\u001b[39;49m\u001b[38;5;124;43mtool_choice\u001b[39;49m\u001b[38;5;124;43m\"\u001b[39;49m\u001b[43m:\u001b[49m\u001b[43m \u001b[49m\u001b[43mtool_choice\u001b[49m\u001b[43m,\u001b[49m\n\u001b[1;32m    666\u001b[0m \u001b[43m                \u001b[49m\u001b[38;5;124;43m\"\u001b[39;49m\u001b[38;5;124;43mtools\u001b[39;49m\u001b[38;5;124;43m\"\u001b[39;49m\u001b[43m:\u001b[49m\u001b[43m \u001b[49m\u001b[43mtools\u001b[49m\u001b[43m,\u001b[49m\n\u001b[1;32m    667\u001b[0m \u001b[43m                \u001b[49m\u001b[38;5;124;43m\"\u001b[39;49m\u001b[38;5;124;43mtop_logprobs\u001b[39;49m\u001b[38;5;124;43m\"\u001b[39;49m\u001b[43m:\u001b[49m\u001b[43m \u001b[49m\u001b[43mtop_logprobs\u001b[49m\u001b[43m,\u001b[49m\n\u001b[1;32m    668\u001b[0m \u001b[43m                \u001b[49m\u001b[38;5;124;43m\"\u001b[39;49m\u001b[38;5;124;43mtop_p\u001b[39;49m\u001b[38;5;124;43m\"\u001b[39;49m\u001b[43m:\u001b[49m\u001b[43m \u001b[49m\u001b[43mtop_p\u001b[49m\u001b[43m,\u001b[49m\n\u001b[1;32m    669\u001b[0m \u001b[43m                \u001b[49m\u001b[38;5;124;43m\"\u001b[39;49m\u001b[38;5;124;43muser\u001b[39;49m\u001b[38;5;124;43m\"\u001b[39;49m\u001b[43m:\u001b[49m\u001b[43m \u001b[49m\u001b[43muser\u001b[49m\u001b[43m,\u001b[49m\n\u001b[1;32m    670\u001b[0m \u001b[43m            \u001b[49m\u001b[43m}\u001b[49m\u001b[43m,\u001b[49m\n\u001b[1;32m    671\u001b[0m \u001b[43m            \u001b[49m\u001b[43mcompletion_create_params\u001b[49m\u001b[38;5;241;43m.\u001b[39;49m\u001b[43mCompletionCreateParams\u001b[49m\u001b[43m,\u001b[49m\n\u001b[1;32m    672\u001b[0m \u001b[43m        \u001b[49m\u001b[43m)\u001b[49m\u001b[43m,\u001b[49m\n\u001b[1;32m    673\u001b[0m \u001b[43m        \u001b[49m\u001b[43moptions\u001b[49m\u001b[38;5;241;43m=\u001b[39;49m\u001b[43mmake_request_options\u001b[49m\u001b[43m(\u001b[49m\n\u001b[1;32m    674\u001b[0m \u001b[43m            \u001b[49m\u001b[43mextra_headers\u001b[49m\u001b[38;5;241;43m=\u001b[39;49m\u001b[43mextra_headers\u001b[49m\u001b[43m,\u001b[49m\u001b[43m \u001b[49m\u001b[43mextra_query\u001b[49m\u001b[38;5;241;43m=\u001b[39;49m\u001b[43mextra_query\u001b[49m\u001b[43m,\u001b[49m\u001b[43m \u001b[49m\u001b[43mextra_body\u001b[49m\u001b[38;5;241;43m=\u001b[39;49m\u001b[43mextra_body\u001b[49m\u001b[43m,\u001b[49m\u001b[43m \u001b[49m\u001b[43mtimeout\u001b[49m\u001b[38;5;241;43m=\u001b[39;49m\u001b[43mtimeout\u001b[49m\n\u001b[1;32m    675\u001b[0m \u001b[43m        \u001b[49m\u001b[43m)\u001b[49m\u001b[43m,\u001b[49m\n\u001b[1;32m    676\u001b[0m \u001b[43m        \u001b[49m\u001b[43mcast_to\u001b[49m\u001b[38;5;241;43m=\u001b[39;49m\u001b[43mChatCompletion\u001b[49m\u001b[43m,\u001b[49m\n\u001b[1;32m    677\u001b[0m \u001b[43m        \u001b[49m\u001b[43mstream\u001b[49m\u001b[38;5;241;43m=\u001b[39;49m\u001b[43mstream\u001b[49m\u001b[43m \u001b[49m\u001b[38;5;129;43;01mor\u001b[39;49;00m\u001b[43m \u001b[49m\u001b[38;5;28;43;01mFalse\u001b[39;49;00m\u001b[43m,\u001b[49m\n\u001b[1;32m    678\u001b[0m \u001b[43m        \u001b[49m\u001b[43mstream_cls\u001b[49m\u001b[38;5;241;43m=\u001b[39;49m\u001b[43mStream\u001b[49m\u001b[43m[\u001b[49m\u001b[43mChatCompletionChunk\u001b[49m\u001b[43m]\u001b[49m\u001b[43m,\u001b[49m\n\u001b[1;32m    679\u001b[0m \u001b[43m    \u001b[49m\u001b[43m)\u001b[49m\n",
      "File \u001b[0;32m~/dev/myvenva/lib/python3.10/site-packages/openai/_base_client.py:1261\u001b[0m, in \u001b[0;36mSyncAPIClient.post\u001b[0;34m(self, path, cast_to, body, options, files, stream, stream_cls)\u001b[0m\n\u001b[1;32m   1247\u001b[0m \u001b[38;5;28;01mdef\u001b[39;00m \u001b[38;5;21mpost\u001b[39m(\n\u001b[1;32m   1248\u001b[0m     \u001b[38;5;28mself\u001b[39m,\n\u001b[1;32m   1249\u001b[0m     path: \u001b[38;5;28mstr\u001b[39m,\n\u001b[0;32m   (...)\u001b[0m\n\u001b[1;32m   1256\u001b[0m     stream_cls: \u001b[38;5;28mtype\u001b[39m[_StreamT] \u001b[38;5;241m|\u001b[39m \u001b[38;5;28;01mNone\u001b[39;00m \u001b[38;5;241m=\u001b[39m \u001b[38;5;28;01mNone\u001b[39;00m,\n\u001b[1;32m   1257\u001b[0m ) \u001b[38;5;241m-\u001b[39m\u001b[38;5;241m>\u001b[39m ResponseT \u001b[38;5;241m|\u001b[39m _StreamT:\n\u001b[1;32m   1258\u001b[0m     opts \u001b[38;5;241m=\u001b[39m FinalRequestOptions\u001b[38;5;241m.\u001b[39mconstruct(\n\u001b[1;32m   1259\u001b[0m         method\u001b[38;5;241m=\u001b[39m\u001b[38;5;124m\"\u001b[39m\u001b[38;5;124mpost\u001b[39m\u001b[38;5;124m\"\u001b[39m, url\u001b[38;5;241m=\u001b[39mpath, json_data\u001b[38;5;241m=\u001b[39mbody, files\u001b[38;5;241m=\u001b[39mto_httpx_files(files), \u001b[38;5;241m*\u001b[39m\u001b[38;5;241m*\u001b[39moptions\n\u001b[1;32m   1260\u001b[0m     )\n\u001b[0;32m-> 1261\u001b[0m     \u001b[38;5;28;01mreturn\u001b[39;00m cast(ResponseT, \u001b[38;5;28;43mself\u001b[39;49m\u001b[38;5;241;43m.\u001b[39;49m\u001b[43mrequest\u001b[49m\u001b[43m(\u001b[49m\u001b[43mcast_to\u001b[49m\u001b[43m,\u001b[49m\u001b[43m \u001b[49m\u001b[43mopts\u001b[49m\u001b[43m,\u001b[49m\u001b[43m \u001b[49m\u001b[43mstream\u001b[49m\u001b[38;5;241;43m=\u001b[39;49m\u001b[43mstream\u001b[49m\u001b[43m,\u001b[49m\u001b[43m \u001b[49m\u001b[43mstream_cls\u001b[49m\u001b[38;5;241;43m=\u001b[39;49m\u001b[43mstream_cls\u001b[49m\u001b[43m)\u001b[49m)\n",
      "File \u001b[0;32m~/dev/myvenva/lib/python3.10/site-packages/openai/_base_client.py:942\u001b[0m, in \u001b[0;36mSyncAPIClient.request\u001b[0;34m(self, cast_to, options, remaining_retries, stream, stream_cls)\u001b[0m\n\u001b[1;32m    933\u001b[0m \u001b[38;5;28;01mdef\u001b[39;00m \u001b[38;5;21mrequest\u001b[39m(\n\u001b[1;32m    934\u001b[0m     \u001b[38;5;28mself\u001b[39m,\n\u001b[1;32m    935\u001b[0m     cast_to: Type[ResponseT],\n\u001b[0;32m   (...)\u001b[0m\n\u001b[1;32m    940\u001b[0m     stream_cls: \u001b[38;5;28mtype\u001b[39m[_StreamT] \u001b[38;5;241m|\u001b[39m \u001b[38;5;28;01mNone\u001b[39;00m \u001b[38;5;241m=\u001b[39m \u001b[38;5;28;01mNone\u001b[39;00m,\n\u001b[1;32m    941\u001b[0m ) \u001b[38;5;241m-\u001b[39m\u001b[38;5;241m>\u001b[39m ResponseT \u001b[38;5;241m|\u001b[39m _StreamT:\n\u001b[0;32m--> 942\u001b[0m     \u001b[38;5;28;01mreturn\u001b[39;00m \u001b[38;5;28;43mself\u001b[39;49m\u001b[38;5;241;43m.\u001b[39;49m\u001b[43m_request\u001b[49m\u001b[43m(\u001b[49m\n\u001b[1;32m    943\u001b[0m \u001b[43m        \u001b[49m\u001b[43mcast_to\u001b[49m\u001b[38;5;241;43m=\u001b[39;49m\u001b[43mcast_to\u001b[49m\u001b[43m,\u001b[49m\n\u001b[1;32m    944\u001b[0m \u001b[43m        \u001b[49m\u001b[43moptions\u001b[49m\u001b[38;5;241;43m=\u001b[39;49m\u001b[43moptions\u001b[49m\u001b[43m,\u001b[49m\n\u001b[1;32m    945\u001b[0m \u001b[43m        \u001b[49m\u001b[43mstream\u001b[49m\u001b[38;5;241;43m=\u001b[39;49m\u001b[43mstream\u001b[49m\u001b[43m,\u001b[49m\n\u001b[1;32m    946\u001b[0m \u001b[43m        \u001b[49m\u001b[43mstream_cls\u001b[49m\u001b[38;5;241;43m=\u001b[39;49m\u001b[43mstream_cls\u001b[49m\u001b[43m,\u001b[49m\n\u001b[1;32m    947\u001b[0m \u001b[43m        \u001b[49m\u001b[43mremaining_retries\u001b[49m\u001b[38;5;241;43m=\u001b[39;49m\u001b[43mremaining_retries\u001b[49m\u001b[43m,\u001b[49m\n\u001b[1;32m    948\u001b[0m \u001b[43m    \u001b[49m\u001b[43m)\u001b[49m\n",
      "File \u001b[0;32m~/dev/myvenva/lib/python3.10/site-packages/openai/_base_client.py:1026\u001b[0m, in \u001b[0;36mSyncAPIClient._request\u001b[0;34m(self, cast_to, options, remaining_retries, stream, stream_cls)\u001b[0m\n\u001b[1;32m   1024\u001b[0m \u001b[38;5;28;01mif\u001b[39;00m retries \u001b[38;5;241m>\u001b[39m \u001b[38;5;241m0\u001b[39m \u001b[38;5;129;01mand\u001b[39;00m \u001b[38;5;28mself\u001b[39m\u001b[38;5;241m.\u001b[39m_should_retry(err\u001b[38;5;241m.\u001b[39mresponse):\n\u001b[1;32m   1025\u001b[0m     err\u001b[38;5;241m.\u001b[39mresponse\u001b[38;5;241m.\u001b[39mclose()\n\u001b[0;32m-> 1026\u001b[0m     \u001b[38;5;28;01mreturn\u001b[39;00m \u001b[38;5;28;43mself\u001b[39;49m\u001b[38;5;241;43m.\u001b[39;49m\u001b[43m_retry_request\u001b[49m\u001b[43m(\u001b[49m\n\u001b[1;32m   1027\u001b[0m \u001b[43m        \u001b[49m\u001b[43moptions\u001b[49m\u001b[43m,\u001b[49m\n\u001b[1;32m   1028\u001b[0m \u001b[43m        \u001b[49m\u001b[43mcast_to\u001b[49m\u001b[43m,\u001b[49m\n\u001b[1;32m   1029\u001b[0m \u001b[43m        \u001b[49m\u001b[43mretries\u001b[49m\u001b[43m,\u001b[49m\n\u001b[1;32m   1030\u001b[0m \u001b[43m        \u001b[49m\u001b[43merr\u001b[49m\u001b[38;5;241;43m.\u001b[39;49m\u001b[43mresponse\u001b[49m\u001b[38;5;241;43m.\u001b[39;49m\u001b[43mheaders\u001b[49m\u001b[43m,\u001b[49m\n\u001b[1;32m   1031\u001b[0m \u001b[43m        \u001b[49m\u001b[43mstream\u001b[49m\u001b[38;5;241;43m=\u001b[39;49m\u001b[43mstream\u001b[49m\u001b[43m,\u001b[49m\n\u001b[1;32m   1032\u001b[0m \u001b[43m        \u001b[49m\u001b[43mstream_cls\u001b[49m\u001b[38;5;241;43m=\u001b[39;49m\u001b[43mstream_cls\u001b[49m\u001b[43m,\u001b[49m\n\u001b[1;32m   1033\u001b[0m \u001b[43m    \u001b[49m\u001b[43m)\u001b[49m\n\u001b[1;32m   1035\u001b[0m \u001b[38;5;66;03m# If the response is streamed then we need to explicitly read the response\u001b[39;00m\n\u001b[1;32m   1036\u001b[0m \u001b[38;5;66;03m# to completion before attempting to access the response text.\u001b[39;00m\n\u001b[1;32m   1037\u001b[0m \u001b[38;5;28;01mif\u001b[39;00m \u001b[38;5;129;01mnot\u001b[39;00m err\u001b[38;5;241m.\u001b[39mresponse\u001b[38;5;241m.\u001b[39mis_closed:\n",
      "File \u001b[0;32m~/dev/myvenva/lib/python3.10/site-packages/openai/_base_client.py:1074\u001b[0m, in \u001b[0;36mSyncAPIClient._retry_request\u001b[0;34m(self, options, cast_to, remaining_retries, response_headers, stream, stream_cls)\u001b[0m\n\u001b[1;32m   1070\u001b[0m \u001b[38;5;66;03m# In a synchronous context we are blocking the entire thread. Up to the library user to run the client in a\u001b[39;00m\n\u001b[1;32m   1071\u001b[0m \u001b[38;5;66;03m# different thread if necessary.\u001b[39;00m\n\u001b[1;32m   1072\u001b[0m time\u001b[38;5;241m.\u001b[39msleep(timeout)\n\u001b[0;32m-> 1074\u001b[0m \u001b[38;5;28;01mreturn\u001b[39;00m \u001b[38;5;28;43mself\u001b[39;49m\u001b[38;5;241;43m.\u001b[39;49m\u001b[43m_request\u001b[49m\u001b[43m(\u001b[49m\n\u001b[1;32m   1075\u001b[0m \u001b[43m    \u001b[49m\u001b[43moptions\u001b[49m\u001b[38;5;241;43m=\u001b[39;49m\u001b[43moptions\u001b[49m\u001b[43m,\u001b[49m\n\u001b[1;32m   1076\u001b[0m \u001b[43m    \u001b[49m\u001b[43mcast_to\u001b[49m\u001b[38;5;241;43m=\u001b[39;49m\u001b[43mcast_to\u001b[49m\u001b[43m,\u001b[49m\n\u001b[1;32m   1077\u001b[0m \u001b[43m    \u001b[49m\u001b[43mremaining_retries\u001b[49m\u001b[38;5;241;43m=\u001b[39;49m\u001b[43mremaining\u001b[49m\u001b[43m,\u001b[49m\n\u001b[1;32m   1078\u001b[0m \u001b[43m    \u001b[49m\u001b[43mstream\u001b[49m\u001b[38;5;241;43m=\u001b[39;49m\u001b[43mstream\u001b[49m\u001b[43m,\u001b[49m\n\u001b[1;32m   1079\u001b[0m \u001b[43m    \u001b[49m\u001b[43mstream_cls\u001b[49m\u001b[38;5;241;43m=\u001b[39;49m\u001b[43mstream_cls\u001b[49m\u001b[43m,\u001b[49m\n\u001b[1;32m   1080\u001b[0m \u001b[43m\u001b[49m\u001b[43m)\u001b[49m\n",
      "File \u001b[0;32m~/dev/myvenva/lib/python3.10/site-packages/openai/_base_client.py:1026\u001b[0m, in \u001b[0;36mSyncAPIClient._request\u001b[0;34m(self, cast_to, options, remaining_retries, stream, stream_cls)\u001b[0m\n\u001b[1;32m   1024\u001b[0m \u001b[38;5;28;01mif\u001b[39;00m retries \u001b[38;5;241m>\u001b[39m \u001b[38;5;241m0\u001b[39m \u001b[38;5;129;01mand\u001b[39;00m \u001b[38;5;28mself\u001b[39m\u001b[38;5;241m.\u001b[39m_should_retry(err\u001b[38;5;241m.\u001b[39mresponse):\n\u001b[1;32m   1025\u001b[0m     err\u001b[38;5;241m.\u001b[39mresponse\u001b[38;5;241m.\u001b[39mclose()\n\u001b[0;32m-> 1026\u001b[0m     \u001b[38;5;28;01mreturn\u001b[39;00m \u001b[38;5;28;43mself\u001b[39;49m\u001b[38;5;241;43m.\u001b[39;49m\u001b[43m_retry_request\u001b[49m\u001b[43m(\u001b[49m\n\u001b[1;32m   1027\u001b[0m \u001b[43m        \u001b[49m\u001b[43moptions\u001b[49m\u001b[43m,\u001b[49m\n\u001b[1;32m   1028\u001b[0m \u001b[43m        \u001b[49m\u001b[43mcast_to\u001b[49m\u001b[43m,\u001b[49m\n\u001b[1;32m   1029\u001b[0m \u001b[43m        \u001b[49m\u001b[43mretries\u001b[49m\u001b[43m,\u001b[49m\n\u001b[1;32m   1030\u001b[0m \u001b[43m        \u001b[49m\u001b[43merr\u001b[49m\u001b[38;5;241;43m.\u001b[39;49m\u001b[43mresponse\u001b[49m\u001b[38;5;241;43m.\u001b[39;49m\u001b[43mheaders\u001b[49m\u001b[43m,\u001b[49m\n\u001b[1;32m   1031\u001b[0m \u001b[43m        \u001b[49m\u001b[43mstream\u001b[49m\u001b[38;5;241;43m=\u001b[39;49m\u001b[43mstream\u001b[49m\u001b[43m,\u001b[49m\n\u001b[1;32m   1032\u001b[0m \u001b[43m        \u001b[49m\u001b[43mstream_cls\u001b[49m\u001b[38;5;241;43m=\u001b[39;49m\u001b[43mstream_cls\u001b[49m\u001b[43m,\u001b[49m\n\u001b[1;32m   1033\u001b[0m \u001b[43m    \u001b[49m\u001b[43m)\u001b[49m\n\u001b[1;32m   1035\u001b[0m \u001b[38;5;66;03m# If the response is streamed then we need to explicitly read the response\u001b[39;00m\n\u001b[1;32m   1036\u001b[0m \u001b[38;5;66;03m# to completion before attempting to access the response text.\u001b[39;00m\n\u001b[1;32m   1037\u001b[0m \u001b[38;5;28;01mif\u001b[39;00m \u001b[38;5;129;01mnot\u001b[39;00m err\u001b[38;5;241m.\u001b[39mresponse\u001b[38;5;241m.\u001b[39mis_closed:\n",
      "File \u001b[0;32m~/dev/myvenva/lib/python3.10/site-packages/openai/_base_client.py:1074\u001b[0m, in \u001b[0;36mSyncAPIClient._retry_request\u001b[0;34m(self, options, cast_to, remaining_retries, response_headers, stream, stream_cls)\u001b[0m\n\u001b[1;32m   1070\u001b[0m \u001b[38;5;66;03m# In a synchronous context we are blocking the entire thread. Up to the library user to run the client in a\u001b[39;00m\n\u001b[1;32m   1071\u001b[0m \u001b[38;5;66;03m# different thread if necessary.\u001b[39;00m\n\u001b[1;32m   1072\u001b[0m time\u001b[38;5;241m.\u001b[39msleep(timeout)\n\u001b[0;32m-> 1074\u001b[0m \u001b[38;5;28;01mreturn\u001b[39;00m \u001b[38;5;28;43mself\u001b[39;49m\u001b[38;5;241;43m.\u001b[39;49m\u001b[43m_request\u001b[49m\u001b[43m(\u001b[49m\n\u001b[1;32m   1075\u001b[0m \u001b[43m    \u001b[49m\u001b[43moptions\u001b[49m\u001b[38;5;241;43m=\u001b[39;49m\u001b[43moptions\u001b[49m\u001b[43m,\u001b[49m\n\u001b[1;32m   1076\u001b[0m \u001b[43m    \u001b[49m\u001b[43mcast_to\u001b[49m\u001b[38;5;241;43m=\u001b[39;49m\u001b[43mcast_to\u001b[49m\u001b[43m,\u001b[49m\n\u001b[1;32m   1077\u001b[0m \u001b[43m    \u001b[49m\u001b[43mremaining_retries\u001b[49m\u001b[38;5;241;43m=\u001b[39;49m\u001b[43mremaining\u001b[49m\u001b[43m,\u001b[49m\n\u001b[1;32m   1078\u001b[0m \u001b[43m    \u001b[49m\u001b[43mstream\u001b[49m\u001b[38;5;241;43m=\u001b[39;49m\u001b[43mstream\u001b[49m\u001b[43m,\u001b[49m\n\u001b[1;32m   1079\u001b[0m \u001b[43m    \u001b[49m\u001b[43mstream_cls\u001b[49m\u001b[38;5;241;43m=\u001b[39;49m\u001b[43mstream_cls\u001b[49m\u001b[43m,\u001b[49m\n\u001b[1;32m   1080\u001b[0m \u001b[43m\u001b[49m\u001b[43m)\u001b[49m\n",
      "File \u001b[0;32m~/dev/myvenva/lib/python3.10/site-packages/openai/_base_client.py:1041\u001b[0m, in \u001b[0;36mSyncAPIClient._request\u001b[0;34m(self, cast_to, options, remaining_retries, stream, stream_cls)\u001b[0m\n\u001b[1;32m   1038\u001b[0m         err\u001b[38;5;241m.\u001b[39mresponse\u001b[38;5;241m.\u001b[39mread()\n\u001b[1;32m   1040\u001b[0m     log\u001b[38;5;241m.\u001b[39mdebug(\u001b[38;5;124m\"\u001b[39m\u001b[38;5;124mRe-raising status error\u001b[39m\u001b[38;5;124m\"\u001b[39m)\n\u001b[0;32m-> 1041\u001b[0m     \u001b[38;5;28;01mraise\u001b[39;00m \u001b[38;5;28mself\u001b[39m\u001b[38;5;241m.\u001b[39m_make_status_error_from_response(err\u001b[38;5;241m.\u001b[39mresponse) \u001b[38;5;28;01mfrom\u001b[39;00m \u001b[38;5;28;01mNone\u001b[39;00m\n\u001b[1;32m   1043\u001b[0m \u001b[38;5;28;01mreturn\u001b[39;00m \u001b[38;5;28mself\u001b[39m\u001b[38;5;241m.\u001b[39m_process_response(\n\u001b[1;32m   1044\u001b[0m     cast_to\u001b[38;5;241m=\u001b[39mcast_to,\n\u001b[1;32m   1045\u001b[0m     options\u001b[38;5;241m=\u001b[39moptions,\n\u001b[0;32m   (...)\u001b[0m\n\u001b[1;32m   1048\u001b[0m     stream_cls\u001b[38;5;241m=\u001b[39mstream_cls,\n\u001b[1;32m   1049\u001b[0m )\n",
      "\u001b[0;31mRateLimitError\u001b[0m: Error code: 429 - {'error': {'code': 'RateLimitReached', 'message': 'Rate limit of 10 per 60s exceeded for UserByModelByMinute. Please wait 45 seconds before retrying.', 'details': None}}"
     ]
    }
   ],
   "source": [
    "from time import sleep\n",
    "\n",
    "for i, doc in enumerate(tqdm(documents)): \n",
    "    doc_id = doc['id']\n",
    "    if doc_id in results:\n",
    "        continue\n",
    "\n",
    "    questions_raw = generate_questions(doc)\n",
    "    questions = json.loads(questions_raw)\n",
    "    results[doc_id] = questions\n",
    "\n",
    "    if (i + 1) % 10 == 0:\n",
    "        sleep(60)"
   ]
  },
  {
   "cell_type": "code",
   "execution_count": 19,
   "metadata": {},
   "outputs": [
    {
     "data": {
      "text/plain": [
       "{2: {'questions': ['What level of care does Fairview Medical Centre provide?',\n",
       "   'Is Fairview Medical Centre a public or a private facility?',\n",
       "   'Does Fairview Medical Centre operate on weekends?',\n",
       "   'How many beds are available at Fairview Medical Centre?',\n",
       "   'In which constituency is Fairview Medical Centre located?']},\n",
       " 3: ['What is the name of the secondary care hospital in Umoja?',\n",
       "  'How many beds are available at the facility in Umoja?',\n",
       "  'Is the hospital in Umoja open on public holidays?',\n",
       "  'In which constituency is the hospital located?',\n",
       "  'Is the hospital in Umoja visible to the public?'],\n",
       " 5: ['What is the official name of the healthcare facility?',\n",
       "  'Who owns the Vital Solutions Health Centre?',\n",
       "  'What is the operation status of the facility?',\n",
       "  'Is the facility approved by the regulatory body?',\n",
       "  'How many beds are available at the health centre?'],\n",
       " 7: ['What level is the Ankara Medical Centre classified as?',\n",
       "  'Is Ankara Medical Centre operational on weekends?',\n",
       "  'How many beds are available at the Ankara Medical Centre?',\n",
       "  'Who is the regulatory body for Ankara Medical Centre?',\n",
       "  'Is the Ankara Medical Centre privately owned or public?'],\n",
       " 9: ['What is the operational status of Nazareth Medical Services-Githurai?',\n",
       "  'Does Nazareth Medical Services-Githurai open on public holidays?',\n",
       "  'Is Nazareth Medical Services-Githurai open during weekends?',\n",
       "  'Does Nazareth Medical Services-Githurai operate late at night?',\n",
       "  'What type of ownership does Nazareth Medical Services-Githurai have?'],\n",
       " 10: ['Is Penda Medical Care-Kahawa West open on weekends?',\n",
       "  'Can I visit Penda Medical Care-Kahawa West late at night?',\n",
       "  'Is Penda Medical Care-Kahawa West currently operational?',\n",
       "  'Does Penda Medical Care-Kahawa West remain open on public holidays?',\n",
       "  'Are there any beds available at Penda Medical Care-Kahawa West?'],\n",
       " 15: ['What is the ownership status of Itoleka Smartext Medical Services?',\n",
       "  'Is Itoleka Smartext Medical Services open on public holidays?',\n",
       "  'Can I visit Itoleka Smartext Medical Services during late night hours?',\n",
       "  'Does Itoleka Smartext Medical Services have inpatient facilities?',\n",
       "  'Is Itoleka Smartext Medical Services operating on weekends?'],\n",
       " 16: ['Is Africare Limited Embakasi Clinic open on public holidays?',\n",
       "  'How many beds are available at Africare Limited Embakasi Clinic?',\n",
       "  'Is Africare Limited Embakasi Clinic open late at night?',\n",
       "  'Can I visit Africare Limited Embakasi Clinic on weekends?',\n",
       "  'Who regulates Africare Limited Embakasi Clinic?'],\n",
       " 17: ['What type of facility is Avenue Healthcare Greenspan?',\n",
       "  'Is Avenue Healthcare Greenspan open on weekends?',\n",
       "  'How many beds are available at this healthcare facility?',\n",
       "  'Is the facility operational currently?',\n",
       "  'Which constituency is Avenue Healthcare Greenspan located in?'],\n",
       " 19: ['What type of services does Musuani Mdc offer since it has no beds or cots?',\n",
       "  'Is Musuani Mdc open on weekends?',\n",
       "  'Who owns and operates Musuani Mdc?',\n",
       "  'In which constituency and county is Musuani Mdc located?',\n",
       "  'Is Musuani Mdc approved and publicly visible?'],\n",
       " 23: ['What level of healthcare facility is Kericho Medical Clinic?',\n",
       "  'Is Kericho Medical Clinic open on weekends?',\n",
       "  'Does Kericho Medical Clinic have any beds available?',\n",
       "  'Who regulates Kericho Medical Clinic?',\n",
       "  'Is Kericho Medical Clinic operational?'],\n",
       " 24: ['When is Orion Healthcare Medical Centre open?',\n",
       "  'Is Orion Healthcare Medical Centre a private or public facility?',\n",
       "  'Does Orion Healthcare Medical Centre have any beds available?',\n",
       "  'In which county is Orion Healthcare Medical Centre located?',\n",
       "  'What is the regulatory body overseeing Orion Healthcare Medical Centre?'],\n",
       " 25: ['Is the COMMUNITY HEALTH SERVICE operational?',\n",
       "  'Does the facility operate on weekends?',\n",
       "  'Is COMMUNITY HEALTH SERVICE open during public holidays?',\n",
       "  'Are there any beds available at the facility?',\n",
       "  'Is the facility approved and visible to the public?'],\n",
       " 26: ['What type of services does Kilele Medical Specialist Centre offer?',\n",
       "  'Is Kilele Medical Specialist Centre open on weekends?',\n",
       "  'Can I visit Kilele Medical Specialist Centre late at night?',\n",
       "  'Is Kilele Medical Specialist Centre publicly visible and approved?',\n",
       "  'Is Kilele Medical Specialist Centre open on public holidays?'],\n",
       " 28: ['What is the opening schedule for Highway Medical Clinic Mukuyuni?',\n",
       "  'Who owns Highway Medical Clinic Mukuyuni?',\n",
       "  'Is the clinic approved and operational?',\n",
       "  'Does Highway Medical Clinic Mukuyuni have any beds or cots available?',\n",
       "  'Which regulatory body oversees Highway Medical Clinic Mukuyuni?'],\n",
       " 29: ['What type of healthcare facility is ScanHealth Limited-Kericho?',\n",
       "  'Is ScanHealth Limited-Kericho open on weekends?',\n",
       "  'Who owns ScanHealth Limited-Kericho?',\n",
       "  'Does ScanHealth Limited-Kericho have any beds available?',\n",
       "  'Is ScanHealth Limited-Kericho approved by the regulatory body?'],\n",
       " 30: ['What level is Aimo Dispensary categorized as?',\n",
       "  'Who owns Aimo Dispensary?',\n",
       "  'Is Aimo Dispensary open on public holidays?',\n",
       "  'How many beds are available at Aimo Dispensary?',\n",
       "  'Is Aimo Dispensary operational in the EAST KAMAGAK ward?'],\n",
       " 32: ['What is the name of the healthcare facility?',\n",
       "  'Which county is the facility located in?',\n",
       "  'Is the facility open on public holidays?',\n",
       "  'How many beds does the facility have?',\n",
       "  'Who operates the facility?'],\n",
       " 33: ['What is the name of this healthcare facility?',\n",
       "  'What level is Naagis Dispensary classified as?',\n",
       "  'Is this facility a public or private institution?',\n",
       "  'Does Naagis Dispensary operate on weekends?',\n",
       "  'Is the facility located in TURKANA county?'],\n",
       " 35: ['What services are available at Karen Roses Medical Clinic?',\n",
       "  'Who owns Karen Roses Medical Clinic in Nairobi?',\n",
       "  'Is Karen Roses Medical Clinic open on weekends or public holidays?',\n",
       "  'What is the operational status of Karen Roses Medical Clinic?',\n",
       "  'In which constituency is Karen Roses Medical Clinic located?'],\n",
       " 36: ['What level is South C Hospital in the Kenyan healthcare system?',\n",
       "  'Is South C Hospital open on public holidays?',\n",
       "  'How many beds does South C Hospital have?',\n",
       "  'Who owns South C Hospital?',\n",
       "  'Is South C Hospital operational?'],\n",
       " 38: ['What is the name of the healthcare facility?',\n",
       "  'Who owns this basic primary health care facility?',\n",
       "  'Is the Nasianda facility operational?',\n",
       "  'Can I visit Nasianda on weekends?',\n",
       "  'Is Nasianda approved and visible to the public?'],\n",
       " 43: ['What is the name of the healthcare facility?',\n",
       "  'Who owns this healthcare facility?',\n",
       "  'Is this facility open on weekends?',\n",
       "  'In which county is this facility located?',\n",
       "  'Does this facility have any beds or cots?'],\n",
       " 44: ['What kind of services does South C Dialysis Centre provide?',\n",
       "  'Is South C Dialysis Centre open on public holidays?',\n",
       "  'How many beds are available at South C Dialysis Centre?',\n",
       "  'What is the operational status of South C Dialysis Centre?',\n",
       "  'Does South C Dialysis Centre operate late at night?'],\n",
       " 49: ['Is Chepsoo Medical Centre open on public holidays?',\n",
       "  'Does Chepsoo Medical Centre operate late at night?',\n",
       "  'What type of facility is Chepsoo Medical Centre?',\n",
       "  'How many beds are available at Chepsoo Medical Centre?',\n",
       "  'Is Chepsoo Medical Centre in Kapsabet ward?'],\n",
       " 54: ['What type of healthcare services does Rushi Medical Clinic provide?',\n",
       "  'Is Rushi Medical Clinic open on weekends?',\n",
       "  'Who regulates Rushi Medical Clinic?',\n",
       "  'Is Rushi Medical Clinic approved and publicly visible?',\n",
       "  'Does Rushi Medical Clinic have any beds or cots available?'],\n",
       " 59: ['What is the name of the healthcare facility?',\n",
       "  'What is the facility type of Bliss M Clinic?',\n",
       "  'Is the clinic operational on public holidays?',\n",
       "  'How many beds does the Bliss M Clinic have?',\n",
       "  'Who is the owner of the clinic?']}"
      ]
     },
     "execution_count": 19,
     "metadata": {},
     "output_type": "execute_result"
    }
   ],
   "source": [
    "results"
   ]
  },
  {
   "cell_type": "code",
   "execution_count": 22,
   "metadata": {},
   "outputs": [],
   "source": [
    "final_results = []\n",
    "\n",
    "for doc_id, questions in results.items():\n",
    "    for q in questions:\n",
    "        final_results.append((doc_id, q))"
   ]
  },
  {
   "cell_type": "code",
   "execution_count": 23,
   "metadata": {},
   "outputs": [
    {
     "data": {
      "text/plain": [
       "[(2, 'questions'),\n",
       " (3, 'What is the name of the secondary care hospital in Umoja?'),\n",
       " (3, 'How many beds are available at the facility in Umoja?'),\n",
       " (3, 'Is the hospital in Umoja open on public holidays?'),\n",
       " (3, 'In which constituency is the hospital located?'),\n",
       " (3, 'Is the hospital in Umoja visible to the public?'),\n",
       " (5, 'What is the official name of the healthcare facility?'),\n",
       " (5, 'Who owns the Vital Solutions Health Centre?'),\n",
       " (5, 'What is the operation status of the facility?'),\n",
       " (5, 'Is the facility approved by the regulatory body?'),\n",
       " (5, 'How many beds are available at the health centre?'),\n",
       " (7, 'What level is the Ankara Medical Centre classified as?'),\n",
       " (7, 'Is Ankara Medical Centre operational on weekends?'),\n",
       " (7, 'How many beds are available at the Ankara Medical Centre?'),\n",
       " (7, 'Who is the regulatory body for Ankara Medical Centre?'),\n",
       " (7, 'Is the Ankara Medical Centre privately owned or public?'),\n",
       " (9, 'What is the operational status of Nazareth Medical Services-Githurai?'),\n",
       " (9, 'Does Nazareth Medical Services-Githurai open on public holidays?'),\n",
       " (9, 'Is Nazareth Medical Services-Githurai open during weekends?'),\n",
       " (9, 'Does Nazareth Medical Services-Githurai operate late at night?'),\n",
       " (9, 'What type of ownership does Nazareth Medical Services-Githurai have?'),\n",
       " (10, 'Is Penda Medical Care-Kahawa West open on weekends?'),\n",
       " (10, 'Can I visit Penda Medical Care-Kahawa West late at night?'),\n",
       " (10, 'Is Penda Medical Care-Kahawa West currently operational?'),\n",
       " (10, 'Does Penda Medical Care-Kahawa West remain open on public holidays?'),\n",
       " (10, 'Are there any beds available at Penda Medical Care-Kahawa West?'),\n",
       " (15, 'What is the ownership status of Itoleka Smartext Medical Services?'),\n",
       " (15, 'Is Itoleka Smartext Medical Services open on public holidays?'),\n",
       " (15,\n",
       "  'Can I visit Itoleka Smartext Medical Services during late night hours?'),\n",
       " (15, 'Does Itoleka Smartext Medical Services have inpatient facilities?'),\n",
       " (15, 'Is Itoleka Smartext Medical Services operating on weekends?'),\n",
       " (16, 'Is Africare Limited Embakasi Clinic open on public holidays?'),\n",
       " (16, 'How many beds are available at Africare Limited Embakasi Clinic?'),\n",
       " (16, 'Is Africare Limited Embakasi Clinic open late at night?'),\n",
       " (16, 'Can I visit Africare Limited Embakasi Clinic on weekends?'),\n",
       " (16, 'Who regulates Africare Limited Embakasi Clinic?'),\n",
       " (17, 'What type of facility is Avenue Healthcare Greenspan?'),\n",
       " (17, 'Is Avenue Healthcare Greenspan open on weekends?'),\n",
       " (17, 'How many beds are available at this healthcare facility?'),\n",
       " (17, 'Is the facility operational currently?'),\n",
       " (17, 'Which constituency is Avenue Healthcare Greenspan located in?'),\n",
       " (19,\n",
       "  'What type of services does Musuani Mdc offer since it has no beds or cots?'),\n",
       " (19, 'Is Musuani Mdc open on weekends?'),\n",
       " (19, 'Who owns and operates Musuani Mdc?'),\n",
       " (19, 'In which constituency and county is Musuani Mdc located?'),\n",
       " (19, 'Is Musuani Mdc approved and publicly visible?'),\n",
       " (23, 'What level of healthcare facility is Kericho Medical Clinic?'),\n",
       " (23, 'Is Kericho Medical Clinic open on weekends?'),\n",
       " (23, 'Does Kericho Medical Clinic have any beds available?'),\n",
       " (23, 'Who regulates Kericho Medical Clinic?'),\n",
       " (23, 'Is Kericho Medical Clinic operational?'),\n",
       " (24, 'When is Orion Healthcare Medical Centre open?'),\n",
       " (24, 'Is Orion Healthcare Medical Centre a private or public facility?'),\n",
       " (24, 'Does Orion Healthcare Medical Centre have any beds available?'),\n",
       " (24, 'In which county is Orion Healthcare Medical Centre located?'),\n",
       " (24,\n",
       "  'What is the regulatory body overseeing Orion Healthcare Medical Centre?'),\n",
       " (25, 'Is the COMMUNITY HEALTH SERVICE operational?'),\n",
       " (25, 'Does the facility operate on weekends?'),\n",
       " (25, 'Is COMMUNITY HEALTH SERVICE open during public holidays?'),\n",
       " (25, 'Are there any beds available at the facility?'),\n",
       " (25, 'Is the facility approved and visible to the public?'),\n",
       " (26, 'What type of services does Kilele Medical Specialist Centre offer?'),\n",
       " (26, 'Is Kilele Medical Specialist Centre open on weekends?'),\n",
       " (26, 'Can I visit Kilele Medical Specialist Centre late at night?'),\n",
       " (26, 'Is Kilele Medical Specialist Centre publicly visible and approved?'),\n",
       " (26, 'Is Kilele Medical Specialist Centre open on public holidays?'),\n",
       " (28, 'What is the opening schedule for Highway Medical Clinic Mukuyuni?'),\n",
       " (28, 'Who owns Highway Medical Clinic Mukuyuni?'),\n",
       " (28, 'Is the clinic approved and operational?'),\n",
       " (28, 'Does Highway Medical Clinic Mukuyuni have any beds or cots available?'),\n",
       " (28, 'Which regulatory body oversees Highway Medical Clinic Mukuyuni?'),\n",
       " (29, 'What type of healthcare facility is ScanHealth Limited-Kericho?'),\n",
       " (29, 'Is ScanHealth Limited-Kericho open on weekends?'),\n",
       " (29, 'Who owns ScanHealth Limited-Kericho?'),\n",
       " (29, 'Does ScanHealth Limited-Kericho have any beds available?'),\n",
       " (29, 'Is ScanHealth Limited-Kericho approved by the regulatory body?'),\n",
       " (30, 'What level is Aimo Dispensary categorized as?'),\n",
       " (30, 'Who owns Aimo Dispensary?'),\n",
       " (30, 'Is Aimo Dispensary open on public holidays?'),\n",
       " (30, 'How many beds are available at Aimo Dispensary?'),\n",
       " (30, 'Is Aimo Dispensary operational in the EAST KAMAGAK ward?'),\n",
       " (32, 'What is the name of the healthcare facility?'),\n",
       " (32, 'Which county is the facility located in?'),\n",
       " (32, 'Is the facility open on public holidays?'),\n",
       " (32, 'How many beds does the facility have?'),\n",
       " (32, 'Who operates the facility?'),\n",
       " (33, 'What is the name of this healthcare facility?'),\n",
       " (33, 'What level is Naagis Dispensary classified as?'),\n",
       " (33, 'Is this facility a public or private institution?'),\n",
       " (33, 'Does Naagis Dispensary operate on weekends?'),\n",
       " (33, 'Is the facility located in TURKANA county?'),\n",
       " (35, 'What services are available at Karen Roses Medical Clinic?'),\n",
       " (35, 'Who owns Karen Roses Medical Clinic in Nairobi?'),\n",
       " (35, 'Is Karen Roses Medical Clinic open on weekends or public holidays?'),\n",
       " (35, 'What is the operational status of Karen Roses Medical Clinic?'),\n",
       " (35, 'In which constituency is Karen Roses Medical Clinic located?'),\n",
       " (36, 'What level is South C Hospital in the Kenyan healthcare system?'),\n",
       " (36, 'Is South C Hospital open on public holidays?'),\n",
       " (36, 'How many beds does South C Hospital have?'),\n",
       " (36, 'Who owns South C Hospital?'),\n",
       " (36, 'Is South C Hospital operational?'),\n",
       " (38, 'What is the name of the healthcare facility?'),\n",
       " (38, 'Who owns this basic primary health care facility?'),\n",
       " (38, 'Is the Nasianda facility operational?'),\n",
       " (38, 'Can I visit Nasianda on weekends?'),\n",
       " (38, 'Is Nasianda approved and visible to the public?'),\n",
       " (43, 'What is the name of the healthcare facility?'),\n",
       " (43, 'Who owns this healthcare facility?'),\n",
       " (43, 'Is this facility open on weekends?'),\n",
       " (43, 'In which county is this facility located?'),\n",
       " (43, 'Does this facility have any beds or cots?'),\n",
       " (44, 'What kind of services does South C Dialysis Centre provide?'),\n",
       " (44, 'Is South C Dialysis Centre open on public holidays?'),\n",
       " (44, 'How many beds are available at South C Dialysis Centre?'),\n",
       " (44, 'What is the operational status of South C Dialysis Centre?'),\n",
       " (44, 'Does South C Dialysis Centre operate late at night?'),\n",
       " (49, 'Is Chepsoo Medical Centre open on public holidays?'),\n",
       " (49, 'Does Chepsoo Medical Centre operate late at night?'),\n",
       " (49, 'What type of facility is Chepsoo Medical Centre?'),\n",
       " (49, 'How many beds are available at Chepsoo Medical Centre?'),\n",
       " (49, 'Is Chepsoo Medical Centre in Kapsabet ward?'),\n",
       " (54, 'What type of healthcare services does Rushi Medical Clinic provide?'),\n",
       " (54, 'Is Rushi Medical Clinic open on weekends?'),\n",
       " (54, 'Who regulates Rushi Medical Clinic?'),\n",
       " (54, 'Is Rushi Medical Clinic approved and publicly visible?'),\n",
       " (54, 'Does Rushi Medical Clinic have any beds or cots available?'),\n",
       " (59, 'What is the name of the healthcare facility?'),\n",
       " (59, 'What is the facility type of Bliss M Clinic?'),\n",
       " (59, 'Is the clinic operational on public holidays?'),\n",
       " (59, 'How many beds does the Bliss M Clinic have?'),\n",
       " (59, 'Who is the owner of the clinic?')]"
      ]
     },
     "execution_count": 23,
     "metadata": {},
     "output_type": "execute_result"
    }
   ],
   "source": [
    "final_results"
   ]
  },
  {
   "cell_type": "code",
   "execution_count": 26,
   "metadata": {},
   "outputs": [],
   "source": [
    "df_results = pd.DataFrame(final_results, columns=['id', 'question'])"
   ]
  },
  {
   "cell_type": "code",
   "execution_count": 28,
   "metadata": {},
   "outputs": [],
   "source": [
    "df_results.to_csv('./ground_truth_retrieval.csv', index=False)"
   ]
  },
  {
   "cell_type": "code",
   "execution_count": null,
   "metadata": {},
   "outputs": [],
   "source": [
    "!"
   ]
  }
 ],
 "metadata": {
  "kernelspec": {
   "display_name": "myvenva",
   "language": "python",
   "name": "python3"
  },
  "language_info": {
   "codemirror_mode": {
    "name": "ipython",
    "version": 3
   },
   "file_extension": ".py",
   "mimetype": "text/x-python",
   "name": "python",
   "nbconvert_exporter": "python",
   "pygments_lexer": "ipython3",
   "version": "3.10.14"
  }
 },
 "nbformat": 4,
 "nbformat_minor": 2
}
