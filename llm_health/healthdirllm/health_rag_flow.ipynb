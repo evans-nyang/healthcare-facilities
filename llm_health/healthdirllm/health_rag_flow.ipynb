{
 "cells": [
  {
   "cell_type": "code",
   "execution_count": 2,
   "metadata": {},
   "outputs": [],
   "source": [
    "import pandas as pd"
   ]
  },
  {
   "cell_type": "markdown",
   "metadata": {},
   "source": [
    "## Ingestion"
   ]
  },
  {
   "cell_type": "code",
   "execution_count": 3,
   "metadata": {},
   "outputs": [],
   "source": [
    "df = pd.read_csv('kenya_health_facilities.csv')"
   ]
  },
  {
   "cell_type": "code",
   "execution_count": 4,
   "metadata": {},
   "outputs": [
    {
     "name": "stdout",
     "output_type": "stream",
     "text": [
      "<class 'pandas.core.frame.DataFrame'>\n",
      "RangeIndex: 8932 entries, 0 to 8931\n",
      "Data columns (total 22 columns):\n",
      " #   Column                Non-Null Count  Dtype  \n",
      "---  ------                --------------  -----  \n",
      " 0   Code                  8932 non-null   int64  \n",
      " 1   Name                  8932 non-null   object \n",
      " 2   Registration_number   119 non-null    object \n",
      " 3   Keph level            8920 non-null   object \n",
      " 4   Facility type         8932 non-null   object \n",
      " 5   Owner                 8932 non-null   object \n",
      " 6   Regulatory body       8604 non-null   object \n",
      " 7   Beds                  8932 non-null   int64  \n",
      " 8   Cots                  8932 non-null   int64  \n",
      " 9   County                8932 non-null   object \n",
      " 10  Constituency          8932 non-null   object \n",
      " 11  Sub county            8932 non-null   object \n",
      " 12  Ward                  8932 non-null   object \n",
      " 13  Operation status      8932 non-null   object \n",
      " 14  Open_whole_day        8932 non-null   object \n",
      " 15  Open_public_holidays  8932 non-null   object \n",
      " 16  Open_weekends         8932 non-null   object \n",
      " 17  Open_late_night       8932 non-null   object \n",
      " 18  Service_names         0 non-null      float64\n",
      " 19  Approved              8932 non-null   object \n",
      " 20  Public visible        8932 non-null   object \n",
      " 21  Closed                8932 non-null   object \n",
      "dtypes: float64(1), int64(3), object(18)\n",
      "memory usage: 1.5+ MB\n"
     ]
    }
   ],
   "source": [
    "df.info()"
   ]
  },
  {
   "cell_type": "code",
   "execution_count": 5,
   "metadata": {},
   "outputs": [
    {
     "data": {
      "text/html": [
       "<div>\n",
       "<style scoped>\n",
       "    .dataframe tbody tr th:only-of-type {\n",
       "        vertical-align: middle;\n",
       "    }\n",
       "\n",
       "    .dataframe tbody tr th {\n",
       "        vertical-align: top;\n",
       "    }\n",
       "\n",
       "    .dataframe thead th {\n",
       "        text-align: right;\n",
       "    }\n",
       "</style>\n",
       "<table border=\"1\" class=\"dataframe\">\n",
       "  <thead>\n",
       "    <tr style=\"text-align: right;\">\n",
       "      <th></th>\n",
       "      <th>Code</th>\n",
       "      <th>Beds</th>\n",
       "      <th>Cots</th>\n",
       "      <th>Service_names</th>\n",
       "    </tr>\n",
       "  </thead>\n",
       "  <tbody>\n",
       "    <tr>\n",
       "      <th>count</th>\n",
       "      <td>8932.000000</td>\n",
       "      <td>8932.000000</td>\n",
       "      <td>8932.000000</td>\n",
       "      <td>0.0</td>\n",
       "    </tr>\n",
       "    <tr>\n",
       "      <th>mean</th>\n",
       "      <td>16030.920958</td>\n",
       "      <td>6.094828</td>\n",
       "      <td>0.713726</td>\n",
       "      <td>NaN</td>\n",
       "    </tr>\n",
       "    <tr>\n",
       "      <th>std</th>\n",
       "      <td>3489.301803</td>\n",
       "      <td>31.561165</td>\n",
       "      <td>6.121864</td>\n",
       "      <td>NaN</td>\n",
       "    </tr>\n",
       "    <tr>\n",
       "      <th>min</th>\n",
       "      <td>10001.000000</td>\n",
       "      <td>0.000000</td>\n",
       "      <td>0.000000</td>\n",
       "      <td>NaN</td>\n",
       "    </tr>\n",
       "    <tr>\n",
       "      <th>25%</th>\n",
       "      <td>13110.750000</td>\n",
       "      <td>0.000000</td>\n",
       "      <td>0.000000</td>\n",
       "      <td>NaN</td>\n",
       "    </tr>\n",
       "    <tr>\n",
       "      <th>50%</th>\n",
       "      <td>15769.500000</td>\n",
       "      <td>0.000000</td>\n",
       "      <td>0.000000</td>\n",
       "      <td>NaN</td>\n",
       "    </tr>\n",
       "    <tr>\n",
       "      <th>75%</th>\n",
       "      <td>18904.000000</td>\n",
       "      <td>2.000000</td>\n",
       "      <td>0.000000</td>\n",
       "      <td>NaN</td>\n",
       "    </tr>\n",
       "    <tr>\n",
       "      <th>max</th>\n",
       "      <td>22998.000000</td>\n",
       "      <td>1455.000000</td>\n",
       "      <td>427.000000</td>\n",
       "      <td>NaN</td>\n",
       "    </tr>\n",
       "  </tbody>\n",
       "</table>\n",
       "</div>"
      ],
      "text/plain": [
       "               Code         Beds         Cots  Service_names\n",
       "count   8932.000000  8932.000000  8932.000000            0.0\n",
       "mean   16030.920958     6.094828     0.713726            NaN\n",
       "std     3489.301803    31.561165     6.121864            NaN\n",
       "min    10001.000000     0.000000     0.000000            NaN\n",
       "25%    13110.750000     0.000000     0.000000            NaN\n",
       "50%    15769.500000     0.000000     0.000000            NaN\n",
       "75%    18904.000000     2.000000     0.000000            NaN\n",
       "max    22998.000000  1455.000000   427.000000            NaN"
      ]
     },
     "execution_count": 5,
     "metadata": {},
     "output_type": "execute_result"
    }
   ],
   "source": [
    "df.describe()"
   ]
  },
  {
   "cell_type": "code",
   "execution_count": 6,
   "metadata": {},
   "outputs": [],
   "source": [
    "# Drop duplicates\n",
    "df = df.drop_duplicates(subset='Name')"
   ]
  },
  {
   "cell_type": "code",
   "execution_count": 7,
   "metadata": {},
   "outputs": [
    {
     "name": "stdout",
     "output_type": "stream",
     "text": [
      "--2024-10-21 17:09:06--  https://raw.githubusercontent.com/alexeygrigorev/minsearch/main/minsearch.py\n",
      "Resolving raw.githubusercontent.com (raw.githubusercontent.com)... 185.199.111.133, 185.199.109.133, 185.199.108.133, ...\n",
      "Connecting to raw.githubusercontent.com (raw.githubusercontent.com)|185.199.111.133|:443... connected.\n",
      "HTTP request sent, awaiting response... 200 OK\n",
      "Length: 3832 (3.7K) [text/plain]\n",
      "Saving to: ‘minsearch.py.1’\n",
      "\n",
      "minsearch.py.1      100%[===================>]   3.74K  --.-KB/s    in 0s      \n",
      "\n",
      "2024-10-21 17:09:06 (26.1 MB/s) - ‘minsearch.py.1’ saved [3832/3832]\n",
      "\n"
     ]
    }
   ],
   "source": [
    "!wget https://raw.githubusercontent.com/alexeygrigorev/minsearch/main/minsearch.py"
   ]
  },
  {
   "cell_type": "code",
   "execution_count": 8,
   "metadata": {},
   "outputs": [],
   "source": [
    "df.columns = df.columns.str.lower().str.replace(' ', '_')"
   ]
  },
  {
   "cell_type": "code",
   "execution_count": 9,
   "metadata": {},
   "outputs": [],
   "source": [
    "# List of columns to drop\n",
    "columns_to_drop = ['registration_number', 'service_names']\n",
    "\n",
    "# Drop the specified columns\n",
    "df = df.drop(columns=columns_to_drop)"
   ]
  },
  {
   "cell_type": "code",
   "execution_count": 10,
   "metadata": {},
   "outputs": [],
   "source": [
    "df = df.dropna(subset=['regulatory_body', 'keph_level'])"
   ]
  },
  {
   "cell_type": "code",
   "execution_count": 11,
   "metadata": {},
   "outputs": [
    {
     "name": "stdout",
     "output_type": "stream",
     "text": [
      "<class 'pandas.core.frame.DataFrame'>\n",
      "Index: 8598 entries, 2 to 8931\n",
      "Data columns (total 20 columns):\n",
      " #   Column                Non-Null Count  Dtype \n",
      "---  ------                --------------  ----- \n",
      " 0   code                  8598 non-null   int64 \n",
      " 1   name                  8598 non-null   object\n",
      " 2   keph_level            8598 non-null   object\n",
      " 3   facility_type         8598 non-null   object\n",
      " 4   owner                 8598 non-null   object\n",
      " 5   regulatory_body       8598 non-null   object\n",
      " 6   beds                  8598 non-null   int64 \n",
      " 7   cots                  8598 non-null   int64 \n",
      " 8   county                8598 non-null   object\n",
      " 9   constituency          8598 non-null   object\n",
      " 10  sub_county            8598 non-null   object\n",
      " 11  ward                  8598 non-null   object\n",
      " 12  operation_status      8598 non-null   object\n",
      " 13  open_whole_day        8598 non-null   object\n",
      " 14  open_public_holidays  8598 non-null   object\n",
      " 15  open_weekends         8598 non-null   object\n",
      " 16  open_late_night       8598 non-null   object\n",
      " 17  approved              8598 non-null   object\n",
      " 18  public_visible        8598 non-null   object\n",
      " 19  closed                8598 non-null   object\n",
      "dtypes: int64(3), object(17)\n",
      "memory usage: 1.4+ MB\n"
     ]
    }
   ],
   "source": [
    "df.info()"
   ]
  },
  {
   "cell_type": "code",
   "execution_count": 12,
   "metadata": {},
   "outputs": [],
   "source": [
    "df.insert(0, 'id', df.index)"
   ]
  },
  {
   "cell_type": "code",
   "execution_count": 13,
   "metadata": {},
   "outputs": [
    {
     "data": {
      "text/plain": [
       "Index(['id', 'code', 'name', 'keph_level', 'facility_type', 'owner',\n",
       "       'regulatory_body', 'beds', 'cots', 'county', 'constituency',\n",
       "       'sub_county', 'ward', 'operation_status', 'open_whole_day',\n",
       "       'open_public_holidays', 'open_weekends', 'open_late_night', 'approved',\n",
       "       'public_visible', 'closed'],\n",
       "      dtype='object')"
      ]
     },
     "execution_count": 13,
     "metadata": {},
     "output_type": "execute_result"
    }
   ],
   "source": [
    "df.columns"
   ]
  },
  {
   "cell_type": "code",
   "execution_count": 14,
   "metadata": {},
   "outputs": [],
   "source": [
    "df.to_csv('kenya_health_facilities_clean.csv', index=False)"
   ]
  },
  {
   "cell_type": "code",
   "execution_count": 15,
   "metadata": {},
   "outputs": [],
   "source": [
    "df = pd.read_csv('kenya_health_facilities_clean.csv')"
   ]
  },
  {
   "cell_type": "code",
   "execution_count": 16,
   "metadata": {},
   "outputs": [
    {
     "data": {
      "text/html": [
       "<div>\n",
       "<style scoped>\n",
       "    .dataframe tbody tr th:only-of-type {\n",
       "        vertical-align: middle;\n",
       "    }\n",
       "\n",
       "    .dataframe tbody tr th {\n",
       "        vertical-align: top;\n",
       "    }\n",
       "\n",
       "    .dataframe thead th {\n",
       "        text-align: right;\n",
       "    }\n",
       "</style>\n",
       "<table border=\"1\" class=\"dataframe\">\n",
       "  <thead>\n",
       "    <tr style=\"text-align: right;\">\n",
       "      <th></th>\n",
       "      <th>id</th>\n",
       "      <th>code</th>\n",
       "      <th>name</th>\n",
       "      <th>keph_level</th>\n",
       "      <th>facility_type</th>\n",
       "      <th>owner</th>\n",
       "      <th>regulatory_body</th>\n",
       "      <th>beds</th>\n",
       "      <th>cots</th>\n",
       "      <th>county</th>\n",
       "      <th>...</th>\n",
       "      <th>sub_county</th>\n",
       "      <th>ward</th>\n",
       "      <th>operation_status</th>\n",
       "      <th>open_whole_day</th>\n",
       "      <th>open_public_holidays</th>\n",
       "      <th>open_weekends</th>\n",
       "      <th>open_late_night</th>\n",
       "      <th>approved</th>\n",
       "      <th>public_visible</th>\n",
       "      <th>closed</th>\n",
       "    </tr>\n",
       "  </thead>\n",
       "  <tbody>\n",
       "    <tr>\n",
       "      <th>0</th>\n",
       "      <td>2</td>\n",
       "      <td>22977</td>\n",
       "      <td>Fairview Medical Centre</td>\n",
       "      <td>Level 2</td>\n",
       "      <td>Secondary care hospitals</td>\n",
       "      <td>Private Practice - Unspecified</td>\n",
       "      <td>Nursing Council of Kenya (Private Practice)</td>\n",
       "      <td>4</td>\n",
       "      <td>0</td>\n",
       "      <td>NAIROBI</td>\n",
       "      <td>...</td>\n",
       "      <td>embakasi central</td>\n",
       "      <td>KAYOLE SOUTH</td>\n",
       "      <td>Operational</td>\n",
       "      <td>No</td>\n",
       "      <td>No</td>\n",
       "      <td>Yes</td>\n",
       "      <td>No</td>\n",
       "      <td>Yes</td>\n",
       "      <td>Yes</td>\n",
       "      <td>No</td>\n",
       "    </tr>\n",
       "    <tr>\n",
       "      <th>1</th>\n",
       "      <td>3</td>\n",
       "      <td>22976</td>\n",
       "      <td>RADIANT GROUP OF HOSPITALS-UMOJA</td>\n",
       "      <td>Level 3</td>\n",
       "      <td>Secondary care hospitals</td>\n",
       "      <td>Private Practice - Unspecified</td>\n",
       "      <td>Kenya MPDB - Private Practice</td>\n",
       "      <td>34</td>\n",
       "      <td>0</td>\n",
       "      <td>NAIROBI</td>\n",
       "      <td>...</td>\n",
       "      <td>embakasi west</td>\n",
       "      <td>UMOJA II</td>\n",
       "      <td>Operational</td>\n",
       "      <td>Yes</td>\n",
       "      <td>Yes</td>\n",
       "      <td>Yes</td>\n",
       "      <td>Yes</td>\n",
       "      <td>Yes</td>\n",
       "      <td>Yes</td>\n",
       "      <td>No</td>\n",
       "    </tr>\n",
       "    <tr>\n",
       "      <th>2</th>\n",
       "      <td>5</td>\n",
       "      <td>22967</td>\n",
       "      <td>Vital Solutions Health Centre</td>\n",
       "      <td>Level 3</td>\n",
       "      <td>Basic primary health care facility</td>\n",
       "      <td>Non-Governmental Organizations</td>\n",
       "      <td>Nursing Council of Kenya (Private Practice)</td>\n",
       "      <td>3</td>\n",
       "      <td>0</td>\n",
       "      <td>NAROK</td>\n",
       "      <td>...</td>\n",
       "      <td>narok west</td>\n",
       "      <td>SIANA</td>\n",
       "      <td>Operational</td>\n",
       "      <td>No</td>\n",
       "      <td>No</td>\n",
       "      <td>No</td>\n",
       "      <td>No</td>\n",
       "      <td>Yes</td>\n",
       "      <td>Yes</td>\n",
       "      <td>No</td>\n",
       "    </tr>\n",
       "    <tr>\n",
       "      <th>3</th>\n",
       "      <td>7</td>\n",
       "      <td>22963</td>\n",
       "      <td>Ankara Medical Centre</td>\n",
       "      <td>Level 2</td>\n",
       "      <td>Dispensaries and clinic-out patient only</td>\n",
       "      <td>Private Practice - Clinical Officer</td>\n",
       "      <td>Kenya MPDB - Private Practice</td>\n",
       "      <td>4</td>\n",
       "      <td>0</td>\n",
       "      <td>GARISSA</td>\n",
       "      <td>...</td>\n",
       "      <td>garissa</td>\n",
       "      <td>WABERI</td>\n",
       "      <td>Operational</td>\n",
       "      <td>No</td>\n",
       "      <td>No</td>\n",
       "      <td>No</td>\n",
       "      <td>No</td>\n",
       "      <td>Yes</td>\n",
       "      <td>Yes</td>\n",
       "      <td>No</td>\n",
       "    </tr>\n",
       "    <tr>\n",
       "      <th>4</th>\n",
       "      <td>9</td>\n",
       "      <td>22948</td>\n",
       "      <td>Nazareth Medical Services-Githurai</td>\n",
       "      <td>Level 2</td>\n",
       "      <td>Dispensaries and clinic-out patient only</td>\n",
       "      <td>Private Practice - Clinical Officer</td>\n",
       "      <td>Kenya MPDB - Private Practice</td>\n",
       "      <td>0</td>\n",
       "      <td>0</td>\n",
       "      <td>NAIROBI</td>\n",
       "      <td>...</td>\n",
       "      <td>roysambu</td>\n",
       "      <td>GITHURAI</td>\n",
       "      <td>Operational</td>\n",
       "      <td>No</td>\n",
       "      <td>Yes</td>\n",
       "      <td>Yes</td>\n",
       "      <td>Yes</td>\n",
       "      <td>Yes</td>\n",
       "      <td>Yes</td>\n",
       "      <td>No</td>\n",
       "    </tr>\n",
       "    <tr>\n",
       "      <th>...</th>\n",
       "      <td>...</td>\n",
       "      <td>...</td>\n",
       "      <td>...</td>\n",
       "      <td>...</td>\n",
       "      <td>...</td>\n",
       "      <td>...</td>\n",
       "      <td>...</td>\n",
       "      <td>...</td>\n",
       "      <td>...</td>\n",
       "      <td>...</td>\n",
       "      <td>...</td>\n",
       "      <td>...</td>\n",
       "      <td>...</td>\n",
       "      <td>...</td>\n",
       "      <td>...</td>\n",
       "      <td>...</td>\n",
       "      <td>...</td>\n",
       "      <td>...</td>\n",
       "      <td>...</td>\n",
       "      <td>...</td>\n",
       "      <td>...</td>\n",
       "    </tr>\n",
       "    <tr>\n",
       "      <th>8593</th>\n",
       "      <td>8927</td>\n",
       "      <td>10628</td>\n",
       "      <td>Kirichu Market Medical Clinic</td>\n",
       "      <td>Level 2</td>\n",
       "      <td>Dispensaries and clinic-out patient only</td>\n",
       "      <td>Private Practice - Nurse / Midwifery</td>\n",
       "      <td>Nursing Council of Kenya (Private Practice)</td>\n",
       "      <td>0</td>\n",
       "      <td>0</td>\n",
       "      <td>NYERI</td>\n",
       "      <td>...</td>\n",
       "      <td>nyeri central</td>\n",
       "      <td>KIGANJO/MATHARI</td>\n",
       "      <td>Operational</td>\n",
       "      <td>No</td>\n",
       "      <td>No</td>\n",
       "      <td>No</td>\n",
       "      <td>No</td>\n",
       "      <td>Yes</td>\n",
       "      <td>Yes</td>\n",
       "      <td>No</td>\n",
       "    </tr>\n",
       "    <tr>\n",
       "      <th>8594</th>\n",
       "      <td>8928</td>\n",
       "      <td>10185</td>\n",
       "      <td>Fr Baldo Cath Disp</td>\n",
       "      <td>Level 2</td>\n",
       "      <td>Dispensaries and clinic-out patient only</td>\n",
       "      <td>Kenya Episcopal Conference-Catholic Secretariat</td>\n",
       "      <td>Kenya MPDB - Private Practice</td>\n",
       "      <td>0</td>\n",
       "      <td>0</td>\n",
       "      <td>NYANDARUA</td>\n",
       "      <td>...</td>\n",
       "      <td>olkalou</td>\n",
       "      <td>KARAU</td>\n",
       "      <td>Operational</td>\n",
       "      <td>No</td>\n",
       "      <td>No</td>\n",
       "      <td>No</td>\n",
       "      <td>No</td>\n",
       "      <td>Yes</td>\n",
       "      <td>Yes</td>\n",
       "      <td>No</td>\n",
       "    </tr>\n",
       "    <tr>\n",
       "      <th>8595</th>\n",
       "      <td>8929</td>\n",
       "      <td>11867</td>\n",
       "      <td>Ukunda Diani Catholic Dispensary</td>\n",
       "      <td>Level 2</td>\n",
       "      <td>Dispensaries and clinic-out patient only</td>\n",
       "      <td>Kenya Episcopal Conference-Catholic Secretariat</td>\n",
       "      <td>Kenya MPDB - Institution</td>\n",
       "      <td>0</td>\n",
       "      <td>0</td>\n",
       "      <td>KWALE</td>\n",
       "      <td>...</td>\n",
       "      <td>msambweni</td>\n",
       "      <td>GAMBATO BONGWE</td>\n",
       "      <td>Operational</td>\n",
       "      <td>No</td>\n",
       "      <td>No</td>\n",
       "      <td>No</td>\n",
       "      <td>No</td>\n",
       "      <td>Yes</td>\n",
       "      <td>Yes</td>\n",
       "      <td>No</td>\n",
       "    </tr>\n",
       "    <tr>\n",
       "      <th>8596</th>\n",
       "      <td>8930</td>\n",
       "      <td>10320</td>\n",
       "      <td>Holy Family Dispensary</td>\n",
       "      <td>Level 2</td>\n",
       "      <td>Dispensaries and clinic-out patient only</td>\n",
       "      <td>Kenya Episcopal Conference-Catholic Secretariat</td>\n",
       "      <td>Kenya MPDB - Institution</td>\n",
       "      <td>0</td>\n",
       "      <td>0</td>\n",
       "      <td>NYANDARUA</td>\n",
       "      <td>...</td>\n",
       "      <td>ndaragwa</td>\n",
       "      <td>CENTRAL</td>\n",
       "      <td>Operational</td>\n",
       "      <td>No</td>\n",
       "      <td>No</td>\n",
       "      <td>No</td>\n",
       "      <td>No</td>\n",
       "      <td>Yes</td>\n",
       "      <td>Yes</td>\n",
       "      <td>No</td>\n",
       "    </tr>\n",
       "    <tr>\n",
       "      <th>8597</th>\n",
       "      <td>8931</td>\n",
       "      <td>16500</td>\n",
       "      <td>Genesis Community Bamako Initiative</td>\n",
       "      <td>Level 2</td>\n",
       "      <td>Basic primary health care facility</td>\n",
       "      <td>Non-Governmental Organizations</td>\n",
       "      <td>Kenya MPDB - Institution</td>\n",
       "      <td>0</td>\n",
       "      <td>0</td>\n",
       "      <td>KIRINYAGA</td>\n",
       "      <td>...</td>\n",
       "      <td>kirinyaga central</td>\n",
       "      <td>MUTIRA</td>\n",
       "      <td>Operational</td>\n",
       "      <td>No</td>\n",
       "      <td>No</td>\n",
       "      <td>No</td>\n",
       "      <td>No</td>\n",
       "      <td>Yes</td>\n",
       "      <td>Yes</td>\n",
       "      <td>No</td>\n",
       "    </tr>\n",
       "  </tbody>\n",
       "</table>\n",
       "<p>8598 rows × 21 columns</p>\n",
       "</div>"
      ],
      "text/plain": [
       "        id   code                                 name keph_level  \\\n",
       "0        2  22977              Fairview Medical Centre    Level 2   \n",
       "1        3  22976     RADIANT GROUP OF HOSPITALS-UMOJA    Level 3   \n",
       "2        5  22967        Vital Solutions Health Centre    Level 3   \n",
       "3        7  22963                Ankara Medical Centre    Level 2   \n",
       "4        9  22948   Nazareth Medical Services-Githurai    Level 2   \n",
       "...    ...    ...                                  ...        ...   \n",
       "8593  8927  10628        Kirichu Market Medical Clinic    Level 2   \n",
       "8594  8928  10185                   Fr Baldo Cath Disp    Level 2   \n",
       "8595  8929  11867     Ukunda Diani Catholic Dispensary    Level 2   \n",
       "8596  8930  10320               Holy Family Dispensary    Level 2   \n",
       "8597  8931  16500  Genesis Community Bamako Initiative    Level 2   \n",
       "\n",
       "                                 facility_type  \\\n",
       "0                     Secondary care hospitals   \n",
       "1                     Secondary care hospitals   \n",
       "2           Basic primary health care facility   \n",
       "3     Dispensaries and clinic-out patient only   \n",
       "4     Dispensaries and clinic-out patient only   \n",
       "...                                        ...   \n",
       "8593  Dispensaries and clinic-out patient only   \n",
       "8594  Dispensaries and clinic-out patient only   \n",
       "8595  Dispensaries and clinic-out patient only   \n",
       "8596  Dispensaries and clinic-out patient only   \n",
       "8597        Basic primary health care facility   \n",
       "\n",
       "                                                owner  \\\n",
       "0                      Private Practice - Unspecified   \n",
       "1                      Private Practice - Unspecified   \n",
       "2                      Non-Governmental Organizations   \n",
       "3                 Private Practice - Clinical Officer   \n",
       "4                 Private Practice - Clinical Officer   \n",
       "...                                               ...   \n",
       "8593             Private Practice - Nurse / Midwifery   \n",
       "8594  Kenya Episcopal Conference-Catholic Secretariat   \n",
       "8595  Kenya Episcopal Conference-Catholic Secretariat   \n",
       "8596  Kenya Episcopal Conference-Catholic Secretariat   \n",
       "8597                   Non-Governmental Organizations   \n",
       "\n",
       "                                  regulatory_body  beds  cots     county  ...  \\\n",
       "0     Nursing Council of Kenya (Private Practice)     4     0    NAIROBI  ...   \n",
       "1                   Kenya MPDB - Private Practice    34     0    NAIROBI  ...   \n",
       "2     Nursing Council of Kenya (Private Practice)     3     0      NAROK  ...   \n",
       "3                   Kenya MPDB - Private Practice     4     0    GARISSA  ...   \n",
       "4                   Kenya MPDB - Private Practice     0     0    NAIROBI  ...   \n",
       "...                                           ...   ...   ...        ...  ...   \n",
       "8593  Nursing Council of Kenya (Private Practice)     0     0      NYERI  ...   \n",
       "8594                Kenya MPDB - Private Practice     0     0  NYANDARUA  ...   \n",
       "8595                     Kenya MPDB - Institution     0     0      KWALE  ...   \n",
       "8596                     Kenya MPDB - Institution     0     0  NYANDARUA  ...   \n",
       "8597                     Kenya MPDB - Institution     0     0  KIRINYAGA  ...   \n",
       "\n",
       "             sub_county             ward operation_status open_whole_day  \\\n",
       "0      embakasi central     KAYOLE SOUTH      Operational             No   \n",
       "1         embakasi west         UMOJA II      Operational            Yes   \n",
       "2            narok west            SIANA      Operational             No   \n",
       "3               garissa           WABERI      Operational             No   \n",
       "4              roysambu         GITHURAI      Operational             No   \n",
       "...                 ...              ...              ...            ...   \n",
       "8593      nyeri central  KIGANJO/MATHARI      Operational             No   \n",
       "8594            olkalou            KARAU      Operational             No   \n",
       "8595          msambweni   GAMBATO BONGWE      Operational             No   \n",
       "8596           ndaragwa          CENTRAL      Operational             No   \n",
       "8597  kirinyaga central           MUTIRA      Operational             No   \n",
       "\n",
       "     open_public_holidays open_weekends open_late_night approved  \\\n",
       "0                      No           Yes              No      Yes   \n",
       "1                     Yes           Yes             Yes      Yes   \n",
       "2                      No            No              No      Yes   \n",
       "3                      No            No              No      Yes   \n",
       "4                     Yes           Yes             Yes      Yes   \n",
       "...                   ...           ...             ...      ...   \n",
       "8593                   No            No              No      Yes   \n",
       "8594                   No            No              No      Yes   \n",
       "8595                   No            No              No      Yes   \n",
       "8596                   No            No              No      Yes   \n",
       "8597                   No            No              No      Yes   \n",
       "\n",
       "     public_visible closed  \n",
       "0               Yes     No  \n",
       "1               Yes     No  \n",
       "2               Yes     No  \n",
       "3               Yes     No  \n",
       "4               Yes     No  \n",
       "...             ...    ...  \n",
       "8593            Yes     No  \n",
       "8594            Yes     No  \n",
       "8595            Yes     No  \n",
       "8596            Yes     No  \n",
       "8597            Yes     No  \n",
       "\n",
       "[8598 rows x 21 columns]"
      ]
     },
     "execution_count": 16,
     "metadata": {},
     "output_type": "execute_result"
    }
   ],
   "source": [
    "df"
   ]
  },
  {
   "cell_type": "code",
   "execution_count": 17,
   "metadata": {},
   "outputs": [],
   "source": [
    "documents = df.to_dict(orient='records')"
   ]
  },
  {
   "cell_type": "code",
   "execution_count": 19,
   "metadata": {},
   "outputs": [],
   "source": [
    "import minsearch"
   ]
  },
  {
   "cell_type": "code",
   "execution_count": 20,
   "metadata": {},
   "outputs": [],
   "source": [
    "index = minsearch.Index(\n",
    "    text_fields=['name', 'keph_level', 'facility_type',\n",
    "       'owner', 'regulatory_body', 'county', 'constituency',\n",
    "       'sub_county', 'ward', 'operation_status', 'open_whole_day',\n",
    "       'open_public_holidays', 'open_weekends', 'open_late_night', \n",
    "       'approved', 'public_visible', 'closed'],\n",
    "    keyword_fields=['id']\n",
    ")"
   ]
  },
  {
   "cell_type": "code",
   "execution_count": 21,
   "metadata": {},
   "outputs": [
    {
     "data": {
      "text/plain": [
       "<minsearch.Index at 0x7f5876340d60>"
      ]
     },
     "execution_count": 21,
     "metadata": {},
     "output_type": "execute_result"
    }
   ],
   "source": [
    "index.fit(documents)"
   ]
  },
  {
   "cell_type": "markdown",
   "metadata": {},
   "source": [
    "## RAG Flow"
   ]
  },
  {
   "cell_type": "code",
   "execution_count": 28,
   "metadata": {},
   "outputs": [],
   "source": [
    "from openai import OpenAI\n",
    "import os"
   ]
  },
  {
   "cell_type": "code",
   "execution_count": 22,
   "metadata": {},
   "outputs": [],
   "source": [
    "def search(query):\n",
    "    boost = {}\n",
    "\n",
    "    results = index.search(\n",
    "        query=query,\n",
    "        filter_dict={},\n",
    "        boost_dict=boost,\n",
    "        num_results=10\n",
    "    )\n",
    "\n",
    "    return results"
   ]
  },
  {
   "cell_type": "code",
   "execution_count": 30,
   "metadata": {},
   "outputs": [],
   "source": [
    "client = OpenAI(\n",
    "    base_url=\"https://models.inference.ai.azure.com\",\n",
    "    api_key=os.environ[\"GITHUB_TOKEN\"]\n",
    ")"
   ]
  },
  {
   "cell_type": "code",
   "execution_count": 31,
   "metadata": {},
   "outputs": [],
   "source": [
    "\n",
    "prompt_template = \"\"\"\n",
    "You're a course healthcare information assistant. Answer the QUESTION based on the CONTEXT from the healthcare database. \n",
    "Use only the facts from the CONTEXT when answering the QUESTION.\n",
    "\n",
    "QUESTION: {question}\n",
    "\n",
    "CONTEXT: {context}\n",
    "\"\"\".strip()\n",
    "\n",
    "entry_template = \"\"\"\n",
    "name: {name}\n",
    "keph_level: {keph_level}\n",
    "facility_type: {facility_type}\n",
    "owner: {owner}\n",
    "regulatory_body: {regulatory_body}\n",
    "beds: {beds}\n",
    "cots: {cots}\n",
    "county: {county}\n",
    "constituency: {constituency}\n",
    "sub_county: {sub_county}\n",
    "ward: {ward} \n",
    "operation_status: {operation_status}\n",
    "open_whole_day: {open_whole_day}\n",
    "open_public_holidays: {open_public_holidays}\n",
    "open_weekends: {open_weekends}\n",
    "open_late_night: {open_late_night}\n",
    "approved: {approved}\n",
    "public_visible: {public_visible}\n",
    "closed: {closed}\n",
    "\"\"\"\n",
    "\n",
    "def build_prompt(query, search_results):\n",
    "\n",
    "    context_str = \"\"\n",
    "\n",
    "    for doc in search_results:\n",
    "        context_str = context_str + entry_template.format(**doc) + \"\\n\\n\"\n",
    "\n",
    "    prompt = prompt_template.format(question=query, context=context_str).strip()\n",
    "    return prompt "
   ]
  },
  {
   "cell_type": "code",
   "execution_count": 32,
   "metadata": {},
   "outputs": [],
   "source": [
    "def llm(prompt):\n",
    "    response = client.chat.completions.create(\n",
    "        model = 'gpt-4o',\n",
    "        messages = [{\"role\": \"user\", \"content\": prompt}]\n",
    "    )\n",
    "\n",
    "    return response.choices[0].message.content"
   ]
  },
  {
   "cell_type": "code",
   "execution_count": 33,
   "metadata": {},
   "outputs": [],
   "source": [
    "def rag(query):\n",
    "    search_results = search(query)\n",
    "    prompt = build_prompt(query, search_results)\n",
    "    response = llm(prompt)\n",
    "    return response"
   ]
  },
  {
   "cell_type": "code",
   "execution_count": 35,
   "metadata": {},
   "outputs": [
    {
     "name": "stdout",
     "output_type": "stream",
     "text": [
      "Based on the provided context, there is no specific information about Fairview Medical Centre. Therefore, I cannot confirm if it is open during public holidays.\n"
     ]
    }
   ],
   "source": [
    "answer = rag(\"Is Fairview Medical Centre open during public holidays?\")\n",
    "print(answer)"
   ]
  },
  {
   "cell_type": "markdown",
   "metadata": {},
   "source": [
    "## Retrieval Evaluation "
   ]
  },
  {
   "cell_type": "code",
   "execution_count": 36,
   "metadata": {},
   "outputs": [],
   "source": [
    "df_questions = pd.read_csv('ground_truth_retrieval.csv')"
   ]
  },
  {
   "cell_type": "code",
   "execution_count": 38,
   "metadata": {},
   "outputs": [
    {
     "data": {
      "text/html": [
       "<div>\n",
       "<style scoped>\n",
       "    .dataframe tbody tr th:only-of-type {\n",
       "        vertical-align: middle;\n",
       "    }\n",
       "\n",
       "    .dataframe tbody tr th {\n",
       "        vertical-align: top;\n",
       "    }\n",
       "\n",
       "    .dataframe thead th {\n",
       "        text-align: right;\n",
       "    }\n",
       "</style>\n",
       "<table border=\"1\" class=\"dataframe\">\n",
       "  <thead>\n",
       "    <tr style=\"text-align: right;\">\n",
       "      <th></th>\n",
       "      <th>id</th>\n",
       "      <th>question</th>\n",
       "    </tr>\n",
       "  </thead>\n",
       "  <tbody>\n",
       "    <tr>\n",
       "      <th>0</th>\n",
       "      <td>3</td>\n",
       "      <td>What is the name of the secondary care hospita...</td>\n",
       "    </tr>\n",
       "    <tr>\n",
       "      <th>1</th>\n",
       "      <td>3</td>\n",
       "      <td>How many beds are available at the facility in...</td>\n",
       "    </tr>\n",
       "    <tr>\n",
       "      <th>2</th>\n",
       "      <td>3</td>\n",
       "      <td>Is the hospital in Umoja open on public holidays?</td>\n",
       "    </tr>\n",
       "    <tr>\n",
       "      <th>3</th>\n",
       "      <td>3</td>\n",
       "      <td>In which constituency is the hospital located?</td>\n",
       "    </tr>\n",
       "    <tr>\n",
       "      <th>4</th>\n",
       "      <td>3</td>\n",
       "      <td>Is the hospital in Umoja visible to the public?</td>\n",
       "    </tr>\n",
       "  </tbody>\n",
       "</table>\n",
       "</div>"
      ],
      "text/plain": [
       "   id                                           question\n",
       "0   3  What is the name of the secondary care hospita...\n",
       "1   3  How many beds are available at the facility in...\n",
       "2   3  Is the hospital in Umoja open on public holidays?\n",
       "3   3     In which constituency is the hospital located?\n",
       "4   3    Is the hospital in Umoja visible to the public?"
      ]
     },
     "execution_count": 38,
     "metadata": {},
     "output_type": "execute_result"
    }
   ],
   "source": [
    "df_questions.head()"
   ]
  },
  {
   "cell_type": "code",
   "execution_count": 39,
   "metadata": {},
   "outputs": [],
   "source": [
    "ground_truth = df_questions.to_dict(orient='records')"
   ]
  },
  {
   "cell_type": "code",
   "execution_count": 40,
   "metadata": {},
   "outputs": [
    {
     "data": {
      "text/plain": [
       "{'id': 3,\n",
       " 'question': 'What is the name of the secondary care hospital in Umoja?'}"
      ]
     },
     "execution_count": 40,
     "metadata": {},
     "output_type": "execute_result"
    }
   ],
   "source": [
    "ground_truth[0]"
   ]
  },
  {
   "cell_type": "code",
   "execution_count": 41,
   "metadata": {},
   "outputs": [],
   "source": [
    "def hit_rate(relevance_total):\n",
    "    cnt = 0\n",
    "\n",
    "    for line in relevance_total:\n",
    "        if True in line:\n",
    "            cnt = cnt + 1\n",
    "\n",
    "    return cnt / len(relevance_total)\n",
    "\n",
    "def mrr(relevance_total):\n",
    "    total_score = 0.0\n",
    "\n",
    "    for line in relevance_total:\n",
    "        for rank in range(len(line)):\n",
    "            if line[rank] == True:\n",
    "                total_score = total_score + 1 / (rank + 1)\n",
    "\n",
    "    return total_score / len(relevance_total)"
   ]
  },
  {
   "cell_type": "code",
   "execution_count": 42,
   "metadata": {},
   "outputs": [],
   "source": [
    "def minsearch_search(query):\n",
    "    boost = {}\n",
    "\n",
    "    results = index.search(\n",
    "        query=query,\n",
    "        filter_dict={},\n",
    "        boost_dict=boost,\n",
    "        num_results=10\n",
    "    )\n",
    "\n",
    "    return results"
   ]
  },
  {
   "cell_type": "code",
   "execution_count": 43,
   "metadata": {},
   "outputs": [],
   "source": [
    "from tqdm import tqdm"
   ]
  },
  {
   "cell_type": "code",
   "execution_count": 44,
   "metadata": {},
   "outputs": [],
   "source": [
    "def evaluate(ground_truth, search_function):\n",
    "    relevance_total = []\n",
    "\n",
    "    for q in tqdm(ground_truth):\n",
    "        doc_id = q['id']\n",
    "        results = search_function(q)\n",
    "        relevance = [d['id'] == doc_id for d in results]\n",
    "        relevance_total.append(relevance)\n",
    "\n",
    "    return {\n",
    "        'hit_rate': hit_rate(relevance_total),\n",
    "        'mrr': mrr(relevance_total),\n",
    "    }"
   ]
  },
  {
   "cell_type": "code",
   "execution_count": 46,
   "metadata": {},
   "outputs": [
    {
     "name": "stderr",
     "output_type": "stream",
     "text": [
      "100%|██████████| 130/130 [00:01<00:00, 77.05it/s]\n"
     ]
    },
    {
     "data": {
      "text/plain": [
       "{'hit_rate': 0.5230769230769231, 'mrr': 0.42673992673992683}"
      ]
     },
     "execution_count": 46,
     "metadata": {},
     "output_type": "execute_result"
    }
   ],
   "source": [
    "evaluate(ground_truth, lambda q: minsearch_search(q['question']))"
   ]
  },
  {
   "cell_type": "code",
   "execution_count": 51,
   "metadata": {},
   "outputs": [],
   "source": [
    "df_validation = df_questions[:80]\n",
    "df_test = df_questions[80:]"
   ]
  },
  {
   "cell_type": "code",
   "execution_count": 48,
   "metadata": {},
   "outputs": [],
   "source": [
    "from hyperopt import fmin, tpe, hp, Trials, STATUS_OK\n",
    "from hyperopt.pyll import scope"
   ]
  },
  {
   "cell_type": "code",
   "execution_count": 75,
   "metadata": {},
   "outputs": [],
   "source": [
    "import random \n",
    "\n",
    "def simple_optimize(param_ranges, objective_function, n_iterations=10):\n",
    "    best_params = None\n",
    "    best_score = float('-inf') # Assuming we are maximizing. Change to float('inf') if minimizing\n",
    "\n",
    "    for _ in range(n_iterations):\n",
    "        # Generate random parameters\n",
    "        current_params = {}\n",
    "        for param, (min_val, max_val) in param_ranges.items():\n",
    "            if isinstance(min_val, int) and isinstance(max_val, int):\n",
    "                current_params[param] = random.randint(min_val, max_val)\n",
    "            else:\n",
    "                current_params[param] = random.uniform(min_val, max_val)\n",
    "\n",
    "        # Evaluate the objective function\n",
    "        current_score = objective_function(current_params)\n",
    "\n",
    "        # Update the best score and best parameters\n",
    "        if current_score > best_score: # Change to < if minimizing\n",
    "            best_score = current_score\n",
    "            best_params = current_params\n",
    "\n",
    "    return best_params, best_score"
   ]
  },
  {
   "cell_type": "code",
   "execution_count": 60,
   "metadata": {},
   "outputs": [],
   "source": [
    "gt_validation = df_validation.to_dict(orient='records')"
   ]
  },
  {
   "cell_type": "code",
   "execution_count": 61,
   "metadata": {},
   "outputs": [
    {
     "name": "stderr",
     "output_type": "stream",
     "text": [
      "100%|██████████| 80/80 [00:01<00:00, 74.36it/s]\n"
     ]
    },
    {
     "data": {
      "text/plain": [
       "{'hit_rate': 0.6125, 'mrr': 0.5013690476190477}"
      ]
     },
     "execution_count": 61,
     "metadata": {},
     "output_type": "execute_result"
    }
   ],
   "source": [
    "evaluate(gt_validation, lambda q: minsearch_search(q['question']))"
   ]
  },
  {
   "cell_type": "code",
   "execution_count": 70,
   "metadata": {},
   "outputs": [],
   "source": [
    "def minsearch_search(query, boost=None):\n",
    "    if boost is None:\n",
    "        boost = {}\n",
    "\n",
    "    results = index.search(\n",
    "        query=query,\n",
    "        filter_dict={},\n",
    "        boost_dict=boost,\n",
    "        num_results=10\n",
    "    )\n",
    "\n",
    "    return results"
   ]
  },
  {
   "cell_type": "code",
   "execution_count": 77,
   "metadata": {},
   "outputs": [],
   "source": [
    "param_ranges = {\n",
    "    'name': (0.0, 3.0),\n",
    "    'keph_level': (0.0, 3.0),\n",
    "    'facility_type': (0.0, 3.0),\n",
    "    'owner': (0.0, 3.0),\n",
    "    'regulatory_body': (0.0, 3.0),\n",
    "    'beds': (0.0, 3.0),\n",
    "    'cots': (0.0, 3.0),\n",
    "    'county': (0.0, 3.0),\n",
    "    'constituency': (0.0, 3.0),\n",
    "    'sub_county': (0.0, 3.0),\n",
    "    'ward': (0.0, 3.0),\n",
    "    'operation_status': (0.0, 3.0),\n",
    "    'open_whole_day': (0.0, 3.0),\n",
    "    'open_public_holidays': (0.0, 3.0),\n",
    "    'open_weekends': (0.0, 3.0),\n",
    "    'open_late_night': (0.0, 3.0),\n",
    "    'approved': (0.0, 3.0),\n",
    "    'public_visible': (0.0, 3.0),\n",
    "    'closed': (0.0, 3.0),\n",
    "}\n",
    "\n",
    "def objective(boost_params):\n",
    "    def search_function(q):\n",
    "        return minsearch_search(q['question'], boost_params)\n",
    "    \n",
    "    results = evaluate(gt_validation, search_function)\n",
    "    return results['mrr']\n",
    "\n",
    "# evaluate(gt_validation, lambda q: minsearch_search(q['question']))"
   ]
  },
  {
   "cell_type": "code",
   "execution_count": 72,
   "metadata": {},
   "outputs": [
    {
     "name": "stderr",
     "output_type": "stream",
     "text": [
      "100%|██████████| 80/80 [00:01<00:00, 79.91it/s]\n",
      "100%|██████████| 80/80 [00:01<00:00, 78.04it/s]\n",
      "100%|██████████| 80/80 [00:01<00:00, 78.23it/s]\n",
      "100%|██████████| 80/80 [00:01<00:00, 78.83it/s]\n",
      "100%|██████████| 80/80 [00:01<00:00, 78.66it/s]\n",
      "100%|██████████| 80/80 [00:00<00:00, 80.77it/s]\n",
      "100%|██████████| 80/80 [00:01<00:00, 79.77it/s]\n",
      "100%|██████████| 80/80 [00:00<00:00, 81.19it/s]\n",
      "100%|██████████| 80/80 [00:01<00:00, 79.54it/s]\n",
      "100%|██████████| 80/80 [00:00<00:00, 80.71it/s]\n"
     ]
    },
    {
     "data": {
      "text/plain": [
       "({'name': 0,\n",
       "  'keph_level': 1,\n",
       "  'facility_type': 3,\n",
       "  'owner': 0,\n",
       "  'regulatory_body': 0,\n",
       "  'beds': 0,\n",
       "  'cots': 3,\n",
       "  'county': 0,\n",
       "  'constituency': 2,\n",
       "  'sub_county': 3,\n",
       "  'ward': 0,\n",
       "  'operation_status': 1,\n",
       "  'open_whole_day': 0,\n",
       "  'open_public_holidays': 0,\n",
       "  'open_weekends': 0,\n",
       "  'open_late_night': 2,\n",
       "  'approved': 3,\n",
       "  'public_visible': 2,\n",
       "  'closed': 0},\n",
       " 0.0)"
      ]
     },
     "execution_count": 72,
     "metadata": {},
     "output_type": "execute_result"
    }
   ],
   "source": [
    "# Worst case\n",
    "simple_optimize(param_ranges, objective, n_iterations=10)"
   ]
  },
  {
   "cell_type": "code",
   "execution_count": 85,
   "metadata": {},
   "outputs": [
    {
     "name": "stderr",
     "output_type": "stream",
     "text": [
      "100%|██████████| 80/80 [00:00<00:00, 98.11it/s]\n",
      "100%|██████████| 80/80 [00:00<00:00, 98.28it/s]\n",
      "100%|██████████| 80/80 [00:00<00:00, 99.56it/s] \n",
      "100%|██████████| 80/80 [00:00<00:00, 100.30it/s]\n",
      "100%|██████████| 80/80 [00:00<00:00, 102.25it/s]\n",
      "100%|██████████| 80/80 [00:00<00:00, 97.88it/s]\n",
      "100%|██████████| 80/80 [00:00<00:00, 96.41it/s]\n",
      "100%|██████████| 80/80 [00:00<00:00, 99.59it/s] \n",
      "100%|██████████| 80/80 [00:00<00:00, 101.13it/s]\n",
      "100%|██████████| 80/80 [00:00<00:00, 100.53it/s]\n",
      "100%|██████████| 80/80 [00:00<00:00, 97.28it/s]\n",
      "100%|██████████| 80/80 [00:00<00:00, 94.73it/s]\n",
      "100%|██████████| 80/80 [00:00<00:00, 97.13it/s]\n",
      "100%|██████████| 80/80 [00:00<00:00, 99.48it/s] \n",
      "100%|██████████| 80/80 [00:00<00:00, 100.72it/s]\n",
      "100%|██████████| 80/80 [00:00<00:00, 96.69it/s]\n",
      "100%|██████████| 80/80 [00:00<00:00, 99.30it/s] \n",
      "100%|██████████| 80/80 [00:00<00:00, 98.35it/s] \n",
      "100%|██████████| 80/80 [00:00<00:00, 101.11it/s]\n",
      "100%|██████████| 80/80 [00:00<00:00, 97.79it/s] \n"
     ]
    },
    {
     "data": {
      "text/plain": [
       "({'name': 2.996344669686476,\n",
       "  'keph_level': 1.0168632571451799,\n",
       "  'facility_type': 0.511829369995405,\n",
       "  'owner': 1.3813027264712194,\n",
       "  'regulatory_body': 0.6682958047183862,\n",
       "  'beds': 2.6400892480456006,\n",
       "  'cots': 2.280309392417921,\n",
       "  'county': 2.679251366841549,\n",
       "  'constituency': 0.10484293691895208,\n",
       "  'sub_county': 0.09367115850308161,\n",
       "  'ward': 1.9538943685880392,\n",
       "  'operation_status': 0.5719985412841712,\n",
       "  'open_whole_day': 0.1414417488775338,\n",
       "  'open_public_holidays': 0.19980037756860303,\n",
       "  'open_weekends': 1.677472643769273,\n",
       "  'open_late_night': 0.008970015226196115,\n",
       "  'approved': 0.6993410477595436,\n",
       "  'public_visible': 2.742736384022981,\n",
       "  'closed': 0.6796784685740839},\n",
       " 0.7475)"
      ]
     },
     "execution_count": 85,
     "metadata": {},
     "output_type": "execute_result"
    }
   ],
   "source": [
    "simple_optimize(param_ranges, objective, n_iterations=20)"
   ]
  },
  {
   "cell_type": "code",
   "execution_count": 86,
   "metadata": {},
   "outputs": [],
   "source": [
    "def minsearch_improved(query):\n",
    "    boost = {\n",
    "        'name': 2.50,\n",
    "        'keph_level': 2.76,\n",
    "        'facility_type': 0.28,\n",
    "        'owner': 0.79,\n",
    "        'regulatory_body': 0.45,\n",
    "        'beds': 2.57,\n",
    "        'cots': 2.16,\n",
    "        'county': 2.06,\n",
    "        'constituency': 1.62,\n",
    "        'sub_county': 0.63,\n",
    "        'ward': 0.13,\n",
    "        'operation_status': 1.76,\n",
    "        'open_whole_day': 0.45,\n",
    "        'open_public_holidays': 0.29,\n",
    "        'open_weekends': 0.36,\n",
    "        'open_late_night': 0.60,\n",
    "        'approved': 0.96,\n",
    "        'public_visible': 0.91,\n",
    "        'closed': 0.01,\n",
    "    }\n",
    "\n",
    "    results = index.search(\n",
    "        query=query,\n",
    "        filter_dict={},\n",
    "        boost_dict=boost,\n",
    "        num_results=10\n",
    "    )\n",
    "\n",
    "    return results"
   ]
  },
  {
   "cell_type": "code",
   "execution_count": 87,
   "metadata": {},
   "outputs": [
    {
     "name": "stderr",
     "output_type": "stream",
     "text": [
      "100%|██████████| 130/130 [00:01<00:00, 94.47it/s]\n"
     ]
    },
    {
     "data": {
      "text/plain": [
       "{'hit_rate': 0.6923076923076923, 'mrr': 0.6619871794871794}"
      ]
     },
     "execution_count": 87,
     "metadata": {},
     "output_type": "execute_result"
    }
   ],
   "source": [
    "evaluate(ground_truth, lambda q: minsearch_improved(q['question']))"
   ]
  },
  {
   "cell_type": "markdown",
   "metadata": {},
   "source": [
    "## RAG evaluation"
   ]
  },
  {
   "cell_type": "code",
   "execution_count": null,
   "metadata": {},
   "outputs": [],
   "source": [
    "prompt2_template = \"\"\"\n",
    "You are an expert evaluator for a Retrieval-Augmented Generation (RAG) system.\n",
    "Your task is to analyze the relevance of the generated answer to the given question.\n",
    "Based on the relevance of the generated answer, you will classify it\n",
    "as \"NON_RELEVANT\", \"PARTLY_RELEVANT\", or \"RELEVANT\".\n",
    "\n",
    "Here is the data for evaluation:\n",
    "\n",
    "Question: {question}\n",
    "Generated Answer: {answer_llm}\n",
    "\n",
    "Please analyze the content and context of the generated answer in relation to the question\n",
    "and provide your evaluation in parsable JSON without using code blocks:\n",
    "\n",
    "{{\n",
    "  \"Relevance\": \"NON_RELEVANT\" | \"PARTLY_RELEVANT\" | \"RELEVANT\",\n",
    "  \"Explanation\": \"[Provide a brief explanation for your evaluation]\"\n",
    "}}\n",
    "\"\"\".strip()"
   ]
  },
  {
   "cell_type": "code",
   "execution_count": null,
   "metadata": {},
   "outputs": [],
   "source": [
    "len(ground_truth)"
   ]
  },
  {
   "cell_type": "code",
   "execution_count": null,
   "metadata": {},
   "outputs": [],
   "source": []
  }
 ],
 "metadata": {
  "kernelspec": {
   "display_name": "myvenva",
   "language": "python",
   "name": "python3"
  },
  "language_info": {
   "codemirror_mode": {
    "name": "ipython",
    "version": 3
   },
   "file_extension": ".py",
   "mimetype": "text/x-python",
   "name": "python",
   "nbconvert_exporter": "python",
   "pygments_lexer": "ipython3",
   "version": "3.10.14"
  }
 },
 "nbformat": 4,
 "nbformat_minor": 2
}
