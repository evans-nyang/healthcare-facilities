{
 "cells": [
  {
   "cell_type": "code",
   "execution_count": 1,
   "metadata": {},
   "outputs": [],
   "source": [
    "import pandas as pd"
   ]
  },
  {
   "cell_type": "markdown",
   "metadata": {},
   "source": [
    "## Ingestion"
   ]
  },
  {
   "cell_type": "code",
   "execution_count": 2,
   "metadata": {},
   "outputs": [],
   "source": [
    "df = pd.read_csv('kenya_health_facilities.csv')"
   ]
  },
  {
   "cell_type": "code",
   "execution_count": 3,
   "metadata": {},
   "outputs": [
    {
     "name": "stdout",
     "output_type": "stream",
     "text": [
      "<class 'pandas.core.frame.DataFrame'>\n",
      "RangeIndex: 8932 entries, 0 to 8931\n",
      "Data columns (total 22 columns):\n",
      " #   Column                Non-Null Count  Dtype  \n",
      "---  ------                --------------  -----  \n",
      " 0   Code                  8932 non-null   int64  \n",
      " 1   Name                  8932 non-null   object \n",
      " 2   Registration_number   119 non-null    object \n",
      " 3   Keph level            8920 non-null   object \n",
      " 4   Facility type         8932 non-null   object \n",
      " 5   Owner                 8932 non-null   object \n",
      " 6   Regulatory body       8604 non-null   object \n",
      " 7   Beds                  8932 non-null   int64  \n",
      " 8   Cots                  8932 non-null   int64  \n",
      " 9   County                8932 non-null   object \n",
      " 10  Constituency          8932 non-null   object \n",
      " 11  Sub county            8932 non-null   object \n",
      " 12  Ward                  8932 non-null   object \n",
      " 13  Operation status      8932 non-null   object \n",
      " 14  Open_whole_day        8932 non-null   object \n",
      " 15  Open_public_holidays  8932 non-null   object \n",
      " 16  Open_weekends         8932 non-null   object \n",
      " 17  Open_late_night       8932 non-null   object \n",
      " 18  Service_names         0 non-null      float64\n",
      " 19  Approved              8932 non-null   object \n",
      " 20  Public visible        8932 non-null   object \n",
      " 21  Closed                8932 non-null   object \n",
      "dtypes: float64(1), int64(3), object(18)\n",
      "memory usage: 1.5+ MB\n"
     ]
    }
   ],
   "source": [
    "df.info()"
   ]
  },
  {
   "cell_type": "code",
   "execution_count": 4,
   "metadata": {},
   "outputs": [
    {
     "data": {
      "text/html": [
       "<div>\n",
       "<style scoped>\n",
       "    .dataframe tbody tr th:only-of-type {\n",
       "        vertical-align: middle;\n",
       "    }\n",
       "\n",
       "    .dataframe tbody tr th {\n",
       "        vertical-align: top;\n",
       "    }\n",
       "\n",
       "    .dataframe thead th {\n",
       "        text-align: right;\n",
       "    }\n",
       "</style>\n",
       "<table border=\"1\" class=\"dataframe\">\n",
       "  <thead>\n",
       "    <tr style=\"text-align: right;\">\n",
       "      <th></th>\n",
       "      <th>Code</th>\n",
       "      <th>Beds</th>\n",
       "      <th>Cots</th>\n",
       "      <th>Service_names</th>\n",
       "    </tr>\n",
       "  </thead>\n",
       "  <tbody>\n",
       "    <tr>\n",
       "      <th>count</th>\n",
       "      <td>8932.000000</td>\n",
       "      <td>8932.000000</td>\n",
       "      <td>8932.000000</td>\n",
       "      <td>0.0</td>\n",
       "    </tr>\n",
       "    <tr>\n",
       "      <th>mean</th>\n",
       "      <td>16030.920958</td>\n",
       "      <td>6.094828</td>\n",
       "      <td>0.713726</td>\n",
       "      <td>NaN</td>\n",
       "    </tr>\n",
       "    <tr>\n",
       "      <th>std</th>\n",
       "      <td>3489.301803</td>\n",
       "      <td>31.561165</td>\n",
       "      <td>6.121864</td>\n",
       "      <td>NaN</td>\n",
       "    </tr>\n",
       "    <tr>\n",
       "      <th>min</th>\n",
       "      <td>10001.000000</td>\n",
       "      <td>0.000000</td>\n",
       "      <td>0.000000</td>\n",
       "      <td>NaN</td>\n",
       "    </tr>\n",
       "    <tr>\n",
       "      <th>25%</th>\n",
       "      <td>13110.750000</td>\n",
       "      <td>0.000000</td>\n",
       "      <td>0.000000</td>\n",
       "      <td>NaN</td>\n",
       "    </tr>\n",
       "    <tr>\n",
       "      <th>50%</th>\n",
       "      <td>15769.500000</td>\n",
       "      <td>0.000000</td>\n",
       "      <td>0.000000</td>\n",
       "      <td>NaN</td>\n",
       "    </tr>\n",
       "    <tr>\n",
       "      <th>75%</th>\n",
       "      <td>18904.000000</td>\n",
       "      <td>2.000000</td>\n",
       "      <td>0.000000</td>\n",
       "      <td>NaN</td>\n",
       "    </tr>\n",
       "    <tr>\n",
       "      <th>max</th>\n",
       "      <td>22998.000000</td>\n",
       "      <td>1455.000000</td>\n",
       "      <td>427.000000</td>\n",
       "      <td>NaN</td>\n",
       "    </tr>\n",
       "  </tbody>\n",
       "</table>\n",
       "</div>"
      ],
      "text/plain": [
       "               Code         Beds         Cots  Service_names\n",
       "count   8932.000000  8932.000000  8932.000000            0.0\n",
       "mean   16030.920958     6.094828     0.713726            NaN\n",
       "std     3489.301803    31.561165     6.121864            NaN\n",
       "min    10001.000000     0.000000     0.000000            NaN\n",
       "25%    13110.750000     0.000000     0.000000            NaN\n",
       "50%    15769.500000     0.000000     0.000000            NaN\n",
       "75%    18904.000000     2.000000     0.000000            NaN\n",
       "max    22998.000000  1455.000000   427.000000            NaN"
      ]
     },
     "execution_count": 4,
     "metadata": {},
     "output_type": "execute_result"
    }
   ],
   "source": [
    "df.describe()"
   ]
  },
  {
   "cell_type": "code",
   "execution_count": 5,
   "metadata": {},
   "outputs": [],
   "source": [
    "# Drop duplicates\n",
    "df = df.drop_duplicates(subset='Name')"
   ]
  },
  {
   "cell_type": "code",
   "execution_count": 6,
   "metadata": {},
   "outputs": [
    {
     "name": "stdout",
     "output_type": "stream",
     "text": [
      "--2024-10-23 12:35:27--  https://raw.githubusercontent.com/alexeygrigorev/minsearch/main/minsearch.py\n",
      "Resolving raw.githubusercontent.com (raw.githubusercontent.com)... 185.199.111.133, 185.199.110.133, 185.199.108.133, ...\n",
      "Connecting to raw.githubusercontent.com (raw.githubusercontent.com)|185.199.111.133|:443... connected.\n",
      "HTTP request sent, awaiting response... 200 OK\n",
      "Length: 3832 (3.7K) [text/plain]\n",
      "Saving to: ‘minsearch.py.3’\n",
      "\n",
      "minsearch.py.3      100%[===================>]   3.74K  --.-KB/s    in 0s      \n",
      "\n",
      "2024-10-23 12:35:27 (145 MB/s) - ‘minsearch.py.3’ saved [3832/3832]\n",
      "\n"
     ]
    }
   ],
   "source": [
    "!wget https://raw.githubusercontent.com/alexeygrigorev/minsearch/main/minsearch.py"
   ]
  },
  {
   "cell_type": "code",
   "execution_count": 7,
   "metadata": {},
   "outputs": [],
   "source": [
    "df.columns = df.columns.str.lower().str.replace(' ', '_')"
   ]
  },
  {
   "cell_type": "code",
   "execution_count": 8,
   "metadata": {},
   "outputs": [],
   "source": [
    "# List of columns to drop\n",
    "columns_to_drop = ['registration_number', 'service_names']\n",
    "\n",
    "# Drop the specified columns\n",
    "df = df.drop(columns=columns_to_drop)"
   ]
  },
  {
   "cell_type": "code",
   "execution_count": 9,
   "metadata": {},
   "outputs": [],
   "source": [
    "df = df.dropna(subset=['regulatory_body', 'keph_level'])"
   ]
  },
  {
   "cell_type": "code",
   "execution_count": 10,
   "metadata": {},
   "outputs": [
    {
     "name": "stdout",
     "output_type": "stream",
     "text": [
      "<class 'pandas.core.frame.DataFrame'>\n",
      "Index: 8598 entries, 2 to 8931\n",
      "Data columns (total 20 columns):\n",
      " #   Column                Non-Null Count  Dtype \n",
      "---  ------                --------------  ----- \n",
      " 0   code                  8598 non-null   int64 \n",
      " 1   name                  8598 non-null   object\n",
      " 2   keph_level            8598 non-null   object\n",
      " 3   facility_type         8598 non-null   object\n",
      " 4   owner                 8598 non-null   object\n",
      " 5   regulatory_body       8598 non-null   object\n",
      " 6   beds                  8598 non-null   int64 \n",
      " 7   cots                  8598 non-null   int64 \n",
      " 8   county                8598 non-null   object\n",
      " 9   constituency          8598 non-null   object\n",
      " 10  sub_county            8598 non-null   object\n",
      " 11  ward                  8598 non-null   object\n",
      " 12  operation_status      8598 non-null   object\n",
      " 13  open_whole_day        8598 non-null   object\n",
      " 14  open_public_holidays  8598 non-null   object\n",
      " 15  open_weekends         8598 non-null   object\n",
      " 16  open_late_night       8598 non-null   object\n",
      " 17  approved              8598 non-null   object\n",
      " 18  public_visible        8598 non-null   object\n",
      " 19  closed                8598 non-null   object\n",
      "dtypes: int64(3), object(17)\n",
      "memory usage: 1.4+ MB\n"
     ]
    }
   ],
   "source": [
    "df.info()"
   ]
  },
  {
   "cell_type": "code",
   "execution_count": 11,
   "metadata": {},
   "outputs": [],
   "source": [
    "df.insert(0, 'id', df.index)"
   ]
  },
  {
   "cell_type": "code",
   "execution_count": 12,
   "metadata": {},
   "outputs": [
    {
     "data": {
      "text/plain": [
       "Index(['id', 'code', 'name', 'keph_level', 'facility_type', 'owner',\n",
       "       'regulatory_body', 'beds', 'cots', 'county', 'constituency',\n",
       "       'sub_county', 'ward', 'operation_status', 'open_whole_day',\n",
       "       'open_public_holidays', 'open_weekends', 'open_late_night', 'approved',\n",
       "       'public_visible', 'closed'],\n",
       "      dtype='object')"
      ]
     },
     "execution_count": 12,
     "metadata": {},
     "output_type": "execute_result"
    }
   ],
   "source": [
    "df.columns"
   ]
  },
  {
   "cell_type": "code",
   "execution_count": 13,
   "metadata": {},
   "outputs": [],
   "source": [
    "df.to_csv('kenya_health_facilities_clean.csv', index=False)"
   ]
  },
  {
   "cell_type": "code",
   "execution_count": 14,
   "metadata": {},
   "outputs": [],
   "source": [
    "df = pd.read_csv('kenya_health_facilities_clean.csv')"
   ]
  },
  {
   "cell_type": "code",
   "execution_count": 16,
   "metadata": {},
   "outputs": [],
   "source": [
    "documents = df.to_dict(orient='records')"
   ]
  },
  {
   "cell_type": "code",
   "execution_count": 17,
   "metadata": {},
   "outputs": [],
   "source": [
    "import minsearch"
   ]
  },
  {
   "cell_type": "code",
   "execution_count": 18,
   "metadata": {},
   "outputs": [],
   "source": [
    "index = minsearch.Index(\n",
    "    text_fields=['name', 'keph_level', 'facility_type',\n",
    "       'owner', 'regulatory_body', 'county', 'constituency',\n",
    "       'sub_county', 'ward', 'operation_status', 'open_whole_day',\n",
    "       'open_public_holidays', 'open_weekends', 'open_late_night', \n",
    "       'approved', 'public_visible', 'closed'],\n",
    "    keyword_fields=['id']\n",
    ")"
   ]
  },
  {
   "cell_type": "code",
   "execution_count": 19,
   "metadata": {},
   "outputs": [
    {
     "data": {
      "text/plain": [
       "<minsearch.Index at 0x7f3972407fd0>"
      ]
     },
     "execution_count": 19,
     "metadata": {},
     "output_type": "execute_result"
    }
   ],
   "source": [
    "index.fit(documents)"
   ]
  },
  {
   "cell_type": "markdown",
   "metadata": {},
   "source": [
    "## RAG Flow"
   ]
  },
  {
   "cell_type": "code",
   "execution_count": 20,
   "metadata": {},
   "outputs": [],
   "source": [
    "from openai import OpenAI\n",
    "import os"
   ]
  },
  {
   "cell_type": "code",
   "execution_count": 21,
   "metadata": {},
   "outputs": [],
   "source": [
    "def search(query):\n",
    "    boost = {}\n",
    "\n",
    "    results = index.search(\n",
    "        query=query,\n",
    "        filter_dict={},\n",
    "        boost_dict=boost,\n",
    "        num_results=10\n",
    "    )\n",
    "\n",
    "    return results"
   ]
  },
  {
   "cell_type": "code",
   "execution_count": 23,
   "metadata": {},
   "outputs": [],
   "source": [
    "client = OpenAI(\n",
    "    base_url=\"https://models.inference.ai.azure.com\",\n",
    "    api_key=os.environ[\"GITHUB_TOKEN\"]\n",
    ")"
   ]
  },
  {
   "cell_type": "code",
   "execution_count": 24,
   "metadata": {},
   "outputs": [],
   "source": [
    "\n",
    "prompt_template = \"\"\"\n",
    "You're a course healthcare information assistant. Answer the QUESTION based on the CONTEXT from the healthcare database. \n",
    "Use only the facts from the CONTEXT when answering the QUESTION.\n",
    "\n",
    "QUESTION: {question}\n",
    "\n",
    "CONTEXT: {context}\n",
    "\"\"\".strip()\n",
    "\n",
    "entry_template = \"\"\"\n",
    "name: {name}\n",
    "keph_level: {keph_level}\n",
    "facility_type: {facility_type}\n",
    "owner: {owner}\n",
    "regulatory_body: {regulatory_body}\n",
    "beds: {beds}\n",
    "cots: {cots}\n",
    "county: {county}\n",
    "constituency: {constituency}\n",
    "sub_county: {sub_county}\n",
    "ward: {ward} \n",
    "operation_status: {operation_status}\n",
    "open_whole_day: {open_whole_day}\n",
    "open_public_holidays: {open_public_holidays}\n",
    "open_weekends: {open_weekends}\n",
    "open_late_night: {open_late_night}\n",
    "approved: {approved}\n",
    "public_visible: {public_visible}\n",
    "closed: {closed}\n",
    "\"\"\"\n",
    "\n",
    "def build_prompt(query, search_results):\n",
    "\n",
    "    context_str = \"\"\n",
    "\n",
    "    for doc in search_results:\n",
    "        context_str = context_str + entry_template.format(**doc) + \"\\n\\n\"\n",
    "\n",
    "    prompt = prompt_template.format(question=query, context=context_str).strip()\n",
    "    return prompt "
   ]
  },
  {
   "cell_type": "code",
   "execution_count": 67,
   "metadata": {},
   "outputs": [],
   "source": [
    "def llm(prompt, model='gpt-4o'):\n",
    "    response = client.chat.completions.create(\n",
    "        model = model,\n",
    "        messages = [{\"role\": \"user\", \"content\": prompt}]\n",
    "    )\n",
    "\n",
    "    return response.choices[0].message.content"
   ]
  },
  {
   "cell_type": "code",
   "execution_count": 26,
   "metadata": {},
   "outputs": [],
   "source": [
    "def rag(query):\n",
    "    search_results = search(query)\n",
    "    prompt = build_prompt(query, search_results)\n",
    "    response = llm(prompt)\n",
    "    return response"
   ]
  },
  {
   "cell_type": "markdown",
   "metadata": {},
   "source": [
    "## Retrieval Evaluation "
   ]
  },
  {
   "cell_type": "code",
   "execution_count": 28,
   "metadata": {},
   "outputs": [],
   "source": [
    "df_questions = pd.read_csv('ground_truth_retrieval.csv')"
   ]
  },
  {
   "cell_type": "code",
   "execution_count": 29,
   "metadata": {},
   "outputs": [
    {
     "data": {
      "text/html": [
       "<div>\n",
       "<style scoped>\n",
       "    .dataframe tbody tr th:only-of-type {\n",
       "        vertical-align: middle;\n",
       "    }\n",
       "\n",
       "    .dataframe tbody tr th {\n",
       "        vertical-align: top;\n",
       "    }\n",
       "\n",
       "    .dataframe thead th {\n",
       "        text-align: right;\n",
       "    }\n",
       "</style>\n",
       "<table border=\"1\" class=\"dataframe\">\n",
       "  <thead>\n",
       "    <tr style=\"text-align: right;\">\n",
       "      <th></th>\n",
       "      <th>id</th>\n",
       "      <th>question</th>\n",
       "    </tr>\n",
       "  </thead>\n",
       "  <tbody>\n",
       "    <tr>\n",
       "      <th>0</th>\n",
       "      <td>3</td>\n",
       "      <td>What is the name of the secondary care hospita...</td>\n",
       "    </tr>\n",
       "    <tr>\n",
       "      <th>1</th>\n",
       "      <td>3</td>\n",
       "      <td>How many beds are available at the facility in...</td>\n",
       "    </tr>\n",
       "    <tr>\n",
       "      <th>2</th>\n",
       "      <td>3</td>\n",
       "      <td>Is the hospital in Umoja open on public holidays?</td>\n",
       "    </tr>\n",
       "    <tr>\n",
       "      <th>3</th>\n",
       "      <td>3</td>\n",
       "      <td>In which constituency is the hospital located?</td>\n",
       "    </tr>\n",
       "    <tr>\n",
       "      <th>4</th>\n",
       "      <td>3</td>\n",
       "      <td>Is the hospital in Umoja visible to the public?</td>\n",
       "    </tr>\n",
       "  </tbody>\n",
       "</table>\n",
       "</div>"
      ],
      "text/plain": [
       "   id                                           question\n",
       "0   3  What is the name of the secondary care hospita...\n",
       "1   3  How many beds are available at the facility in...\n",
       "2   3  Is the hospital in Umoja open on public holidays?\n",
       "3   3     In which constituency is the hospital located?\n",
       "4   3    Is the hospital in Umoja visible to the public?"
      ]
     },
     "execution_count": 29,
     "metadata": {},
     "output_type": "execute_result"
    }
   ],
   "source": [
    "df_questions.head()"
   ]
  },
  {
   "cell_type": "code",
   "execution_count": 30,
   "metadata": {},
   "outputs": [],
   "source": [
    "ground_truth = df_questions.to_dict(orient='records')"
   ]
  },
  {
   "cell_type": "code",
   "execution_count": 32,
   "metadata": {},
   "outputs": [],
   "source": [
    "def hit_rate(relevance_total):\n",
    "    cnt = 0\n",
    "\n",
    "    for line in relevance_total:\n",
    "        if True in line:\n",
    "            cnt = cnt + 1\n",
    "\n",
    "    return cnt / len(relevance_total)\n",
    "\n",
    "def mrr(relevance_total):\n",
    "    total_score = 0.0\n",
    "\n",
    "    for line in relevance_total:\n",
    "        for rank in range(len(line)):\n",
    "            if line[rank] == True:\n",
    "                total_score = total_score + 1 / (rank + 1)\n",
    "\n",
    "    return total_score / len(relevance_total)"
   ]
  },
  {
   "cell_type": "code",
   "execution_count": 33,
   "metadata": {},
   "outputs": [],
   "source": [
    "def minsearch_search(query):\n",
    "    boost = {}\n",
    "\n",
    "    results = index.search(\n",
    "        query=query,\n",
    "        filter_dict={},\n",
    "        boost_dict=boost,\n",
    "        num_results=10\n",
    "    )\n",
    "\n",
    "    return results"
   ]
  },
  {
   "cell_type": "code",
   "execution_count": 34,
   "metadata": {},
   "outputs": [],
   "source": [
    "from tqdm import tqdm"
   ]
  },
  {
   "cell_type": "code",
   "execution_count": 35,
   "metadata": {},
   "outputs": [],
   "source": [
    "def evaluate(ground_truth, search_function):\n",
    "    relevance_total = []\n",
    "\n",
    "    for q in tqdm(ground_truth):\n",
    "        doc_id = q['id']\n",
    "        results = search_function(q)\n",
    "        relevance = [d['id'] == doc_id for d in results]\n",
    "        relevance_total.append(relevance)\n",
    "\n",
    "    return {\n",
    "        'hit_rate': hit_rate(relevance_total),\n",
    "        'mrr': mrr(relevance_total),\n",
    "    }"
   ]
  },
  {
   "cell_type": "code",
   "execution_count": 36,
   "metadata": {},
   "outputs": [
    {
     "name": "stderr",
     "output_type": "stream",
     "text": [
      "100%|██████████| 130/130 [00:01<00:00, 95.85it/s]\n"
     ]
    },
    {
     "data": {
      "text/plain": [
       "{'hit_rate': 0.5230769230769231, 'mrr': 0.42673992673992683}"
      ]
     },
     "execution_count": 36,
     "metadata": {},
     "output_type": "execute_result"
    }
   ],
   "source": [
    "evaluate(ground_truth, lambda q: minsearch_search(q['question']))"
   ]
  },
  {
   "cell_type": "code",
   "execution_count": 37,
   "metadata": {},
   "outputs": [],
   "source": [
    "df_validation = df_questions[:80]\n",
    "df_test = df_questions[80:]"
   ]
  },
  {
   "cell_type": "code",
   "execution_count": 38,
   "metadata": {},
   "outputs": [],
   "source": [
    "from hyperopt import fmin, tpe, hp, Trials, STATUS_OK\n",
    "from hyperopt.pyll import scope"
   ]
  },
  {
   "cell_type": "code",
   "execution_count": 39,
   "metadata": {},
   "outputs": [],
   "source": [
    "import random \n",
    "\n",
    "def simple_optimize(param_ranges, objective_function, n_iterations=10):\n",
    "    best_params = None\n",
    "    best_score = float('-inf') # Assuming we are maximizing. Change to float('inf') if minimizing\n",
    "\n",
    "    for _ in range(n_iterations):\n",
    "        # Generate random parameters\n",
    "        current_params = {}\n",
    "        for param, (min_val, max_val) in param_ranges.items():\n",
    "            if isinstance(min_val, int) and isinstance(max_val, int):\n",
    "                current_params[param] = random.randint(min_val, max_val)\n",
    "            else:\n",
    "                current_params[param] = random.uniform(min_val, max_val)\n",
    "\n",
    "        # Evaluate the objective function\n",
    "        current_score = objective_function(current_params)\n",
    "\n",
    "        # Update the best score and best parameters\n",
    "        if current_score > best_score: # Change to < if minimizing\n",
    "            best_score = current_score\n",
    "            best_params = current_params\n",
    "\n",
    "    return best_params, best_score"
   ]
  },
  {
   "cell_type": "code",
   "execution_count": 40,
   "metadata": {},
   "outputs": [],
   "source": [
    "gt_validation = df_validation.to_dict(orient='records')"
   ]
  },
  {
   "cell_type": "code",
   "execution_count": 41,
   "metadata": {},
   "outputs": [
    {
     "name": "stderr",
     "output_type": "stream",
     "text": [
      "100%|██████████| 80/80 [00:00<00:00, 96.89it/s]\n"
     ]
    },
    {
     "data": {
      "text/plain": [
       "{'hit_rate': 0.6125, 'mrr': 0.5013690476190477}"
      ]
     },
     "execution_count": 41,
     "metadata": {},
     "output_type": "execute_result"
    }
   ],
   "source": [
    "evaluate(gt_validation, lambda q: minsearch_search(q['question']))"
   ]
  },
  {
   "cell_type": "code",
   "execution_count": 42,
   "metadata": {},
   "outputs": [],
   "source": [
    "def minsearch_search(query, boost=None):\n",
    "    if boost is None:\n",
    "        boost = {}\n",
    "\n",
    "    results = index.search(\n",
    "        query=query,\n",
    "        filter_dict={},\n",
    "        boost_dict=boost,\n",
    "        num_results=10\n",
    "    )\n",
    "\n",
    "    return results"
   ]
  },
  {
   "cell_type": "code",
   "execution_count": 43,
   "metadata": {},
   "outputs": [],
   "source": [
    "param_ranges = {\n",
    "    'name': (0.0, 3.0),\n",
    "    'keph_level': (0.0, 3.0),\n",
    "    'facility_type': (0.0, 3.0),\n",
    "    'owner': (0.0, 3.0),\n",
    "    'regulatory_body': (0.0, 3.0),\n",
    "    'beds': (0.0, 3.0),\n",
    "    'cots': (0.0, 3.0),\n",
    "    'county': (0.0, 3.0),\n",
    "    'constituency': (0.0, 3.0),\n",
    "    'sub_county': (0.0, 3.0),\n",
    "    'ward': (0.0, 3.0),\n",
    "    'operation_status': (0.0, 3.0),\n",
    "    'open_whole_day': (0.0, 3.0),\n",
    "    'open_public_holidays': (0.0, 3.0),\n",
    "    'open_weekends': (0.0, 3.0),\n",
    "    'open_late_night': (0.0, 3.0),\n",
    "    'approved': (0.0, 3.0),\n",
    "    'public_visible': (0.0, 3.0),\n",
    "    'closed': (0.0, 3.0),\n",
    "}\n",
    "\n",
    "def objective(boost_params):\n",
    "    def search_function(q):\n",
    "        return minsearch_search(q['question'], boost_params)\n",
    "    \n",
    "    results = evaluate(gt_validation, search_function)\n",
    "    return results['mrr']\n"
   ]
  },
  {
   "cell_type": "code",
   "execution_count": 45,
   "metadata": {},
   "outputs": [
    {
     "name": "stderr",
     "output_type": "stream",
     "text": [
      "100%|██████████| 80/80 [00:00<00:00, 93.91it/s]\n",
      "100%|██████████| 80/80 [00:00<00:00, 97.20it/s]\n",
      "100%|██████████| 80/80 [00:00<00:00, 93.93it/s]\n",
      "100%|██████████| 80/80 [00:00<00:00, 97.41it/s]\n",
      "100%|██████████| 80/80 [00:00<00:00, 96.43it/s]\n",
      "100%|██████████| 80/80 [00:00<00:00, 96.18it/s] \n",
      "100%|██████████| 80/80 [00:00<00:00, 96.25it/s]\n",
      "100%|██████████| 80/80 [00:00<00:00, 96.43it/s]\n",
      "100%|██████████| 80/80 [00:00<00:00, 95.79it/s]\n",
      "100%|██████████| 80/80 [00:00<00:00, 95.63it/s]\n",
      "100%|██████████| 80/80 [00:00<00:00, 99.08it/s] \n",
      "100%|██████████| 80/80 [00:00<00:00, 95.23it/s]\n",
      "100%|██████████| 80/80 [00:00<00:00, 94.07it/s]\n",
      "100%|██████████| 80/80 [00:00<00:00, 93.86it/s]\n",
      "100%|██████████| 80/80 [00:00<00:00, 100.06it/s]\n",
      "100%|██████████| 80/80 [00:00<00:00, 97.46it/s]\n",
      "100%|██████████| 80/80 [00:00<00:00, 95.05it/s]\n",
      "100%|██████████| 80/80 [00:00<00:00, 95.96it/s]\n",
      "100%|██████████| 80/80 [00:00<00:00, 98.09it/s]\n",
      "100%|██████████| 80/80 [00:00<00:00, 99.92it/s] \n"
     ]
    },
    {
     "data": {
      "text/plain": [
       "({'name': 2.7950534105260223,\n",
       "  'keph_level': 2.7489453465667903,\n",
       "  'facility_type': 1.1977931582083436,\n",
       "  'owner': 0.81696566726373,\n",
       "  'regulatory_body': 0.4931183900402659,\n",
       "  'beds': 1.6647728378062763,\n",
       "  'cots': 2.1129189199525023,\n",
       "  'county': 0.1915983672418855,\n",
       "  'constituency': 0.04662222203409139,\n",
       "  'sub_county': 2.3364436616565283,\n",
       "  'ward': 1.4940398577402014,\n",
       "  'operation_status': 2.3978788328309935,\n",
       "  'open_whole_day': 0.5873009214691289,\n",
       "  'open_public_holidays': 2.26294800458026,\n",
       "  'open_weekends': 0.8827119704348237,\n",
       "  'open_late_night': 1.2935230325904739,\n",
       "  'approved': 1.6423404738758443,\n",
       "  'public_visible': 0.335607000093775,\n",
       "  'closed': 0.8436428861937306},\n",
       " 0.7685069444444445)"
      ]
     },
     "execution_count": 45,
     "metadata": {},
     "output_type": "execute_result"
    }
   ],
   "source": [
    "simple_optimize(param_ranges, objective, n_iterations=20)"
   ]
  },
  {
   "cell_type": "code",
   "execution_count": 46,
   "metadata": {},
   "outputs": [],
   "source": [
    "def minsearch_improved(query):\n",
    "    boost = {\n",
    "        'name': 2.50,\n",
    "        'keph_level': 2.76,\n",
    "        'facility_type': 0.28,\n",
    "        'owner': 0.79,\n",
    "        'regulatory_body': 0.45,\n",
    "        'beds': 2.57,\n",
    "        'cots': 2.16,\n",
    "        'county': 2.06,\n",
    "        'constituency': 1.62,\n",
    "        'sub_county': 0.63,\n",
    "        'ward': 0.13,\n",
    "        'operation_status': 1.76,\n",
    "        'open_whole_day': 0.45,\n",
    "        'open_public_holidays': 0.29,\n",
    "        'open_weekends': 0.36,\n",
    "        'open_late_night': 0.60,\n",
    "        'approved': 0.96,\n",
    "        'public_visible': 0.91,\n",
    "        'closed': 0.01,\n",
    "    }\n",
    "\n",
    "    results = index.search(\n",
    "        query=query,\n",
    "        filter_dict={},\n",
    "        boost_dict=boost,\n",
    "        num_results=10\n",
    "    )\n",
    "\n",
    "    return results"
   ]
  },
  {
   "cell_type": "code",
   "execution_count": 47,
   "metadata": {},
   "outputs": [
    {
     "name": "stderr",
     "output_type": "stream",
     "text": [
      "100%|██████████| 130/130 [00:01<00:00, 96.94it/s]\n"
     ]
    },
    {
     "data": {
      "text/plain": [
       "{'hit_rate': 0.6923076923076923, 'mrr': 0.6619871794871794}"
      ]
     },
     "execution_count": 47,
     "metadata": {},
     "output_type": "execute_result"
    }
   ],
   "source": [
    "evaluate(ground_truth, lambda q: minsearch_improved(q['question']))"
   ]
  },
  {
   "cell_type": "markdown",
   "metadata": {},
   "source": [
    "## RAG evaluation"
   ]
  },
  {
   "cell_type": "code",
   "execution_count": 48,
   "metadata": {},
   "outputs": [],
   "source": [
    "prompt2_template = \"\"\"\n",
    "You are an expert evaluator for a Retrieval-Augmented Generation (RAG) system.\n",
    "Your task is to analyze the relevance of the generated answer to the given question.\n",
    "Based on the relevance of the generated answer, you will classify it\n",
    "as \"NON_RELEVANT\", \"PARTLY_RELEVANT\", or \"RELEVANT\".\n",
    "\n",
    "Here is the data for evaluation:\n",
    "\n",
    "Question: {question}\n",
    "Generated Answer: {answer_llm}\n",
    "\n",
    "Please analyze the content and context of the generated answer in relation to the question\n",
    "and provide your evaluation in parsable JSON without using code blocks:\n",
    "\n",
    "{{\n",
    "  \"Relevance\": \"NON_RELEVANT\" | \"PARTLY_RELEVANT\" | \"RELEVANT\",\n",
    "  \"Explanation\": \"[Provide a brief explanation for your evaluation]\"\n",
    "}}\n",
    "\"\"\".strip()"
   ]
  },
  {
   "cell_type": "code",
   "execution_count": 57,
   "metadata": {},
   "outputs": [],
   "source": [
    "import json"
   ]
  },
  {
   "cell_type": "code",
   "execution_count": null,
   "metadata": {},
   "outputs": [],
   "source": [
    "evaluations = []\n",
    "\n",
    "for record in tqdm(ground_truth):\n",
    "    id = record['id']\n",
    "\n",
    "    if id in evaluations:\n",
    "        continue\n",
    "\n",
    "    question = record['question']\n",
    "    answer_llm = rag(question)\n",
    "    \n",
    "    prompt = prompt2_template.format(\n",
    "        question=record['question'], \n",
    "        answer_llm=answer_llm\n",
    "    )\n",
    "    evaluation = llm(prompt)\n",
    "    evaluation = json.loads(evaluation)\n",
    "\n",
    "    evaluations.append((record, answer_llm, evaluation))"
   ]
  },
  {
   "cell_type": "code",
   "execution_count": null,
   "metadata": {},
   "outputs": [],
   "source": [
    "df_eval = pd.DataFrame(evaluations, columns=['record', 'answer', 'evaluation'])"
   ]
  },
  {
   "cell_type": "code",
   "execution_count": null,
   "metadata": {},
   "outputs": [],
   "source": [
    "df_eval['id'] = df_eval['record'].apply(lambda x: x['id'])\n",
    "df_eval['question'] = df_eval['record'].apply(lambda x: x['question'])\n",
    "\n",
    "df_eval['relevance'] = df_eval['evaluation'].apply(lambda x: x['Relevance'])\n",
    "df_eval['explanation'] = df_eval['evaluation'].apply(lambda x: x['Explanation'])"
   ]
  },
  {
   "cell_type": "code",
   "execution_count": null,
   "metadata": {},
   "outputs": [],
   "source": [
    "del df_eval['record']\n",
    "del df_eval['evaluation']"
   ]
  },
  {
   "cell_type": "code",
   "execution_count": 66,
   "metadata": {},
   "outputs": [
    {
     "data": {
      "text/plain": [
       "23"
      ]
     },
     "execution_count": 66,
     "metadata": {},
     "output_type": "execute_result"
    }
   ],
   "source": [
    "df_eval.relevance.value_counts()"
   ]
  },
  {
   "cell_type": "code",
   "execution_count": null,
   "metadata": {},
   "outputs": [],
   "source": []
  }
 ],
 "metadata": {
  "kernelspec": {
   "display_name": "myvenva",
   "language": "python",
   "name": "python3"
  },
  "language_info": {
   "codemirror_mode": {
    "name": "ipython",
    "version": 3
   },
   "file_extension": ".py",
   "mimetype": "text/x-python",
   "name": "python",
   "nbconvert_exporter": "python",
   "pygments_lexer": "ipython3",
   "version": "3.10.14"
  }
 },
 "nbformat": 4,
 "nbformat_minor": 2
}
